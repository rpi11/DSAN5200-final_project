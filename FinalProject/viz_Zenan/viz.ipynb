{
 "cells": [
  {
   "cell_type": "code",
   "execution_count": 6,
   "metadata": {},
   "outputs": [],
   "source": [
    "import pandas as pd\n",
    "import numpy as np\n",
    "import matplotlib.pyplot as plt\n",
    "import plotly.express as px"
   ]
  },
  {
   "cell_type": "code",
   "execution_count": 2,
   "metadata": {},
   "outputs": [
    {
     "data": {
      "text/html": [
       "<div>\n",
       "<style scoped>\n",
       "    .dataframe tbody tr th:only-of-type {\n",
       "        vertical-align: middle;\n",
       "    }\n",
       "\n",
       "    .dataframe tbody tr th {\n",
       "        vertical-align: top;\n",
       "    }\n",
       "\n",
       "    .dataframe thead th {\n",
       "        text-align: right;\n",
       "    }\n",
       "</style>\n",
       "<table border=\"1\" class=\"dataframe\">\n",
       "  <thead>\n",
       "    <tr style=\"text-align: right;\">\n",
       "      <th></th>\n",
       "      <th>Level</th>\n",
       "      <th>Category</th>\n",
       "      <th>Variable</th>\n",
       "      <th>County</th>\n",
       "      <th>Date</th>\n",
       "      <th>GEOID</th>\n",
       "      <th>State FIPS</th>\n",
       "      <th>State</th>\n",
       "      <th>Value</th>\n",
       "      <th>Denominator</th>\n",
       "      <th>Denominator Description</th>\n",
       "      <th>Row-ID</th>\n",
       "      <th>Latitude</th>\n",
       "      <th>Longitude</th>\n",
       "      <th>Location</th>\n",
       "      <th>Year</th>\n",
       "    </tr>\n",
       "  </thead>\n",
       "  <tbody>\n",
       "    <tr>\n",
       "      <th>0</th>\n",
       "      <td>County</td>\n",
       "      <td>Airports</td>\n",
       "      <td>Total Airports</td>\n",
       "      <td>Grant County, Wisconsin</td>\n",
       "      <td>01/01/2020 12:00:00 AM</td>\n",
       "      <td>55043</td>\n",
       "      <td>55</td>\n",
       "      <td>Wisconsin</td>\n",
       "      <td>9.0</td>\n",
       "      <td>9.0</td>\n",
       "      <td>Total Airports</td>\n",
       "      <td>airports-2020-55043</td>\n",
       "      <td>42.867479</td>\n",
       "      <td>-90.706205</td>\n",
       "      <td>POINT (-90.706205 42.867479)</td>\n",
       "      <td>2020</td>\n",
       "    </tr>\n",
       "    <tr>\n",
       "      <th>1</th>\n",
       "      <td>County</td>\n",
       "      <td>Airports</td>\n",
       "      <td>Total Airports</td>\n",
       "      <td>Taylor County, Florida</td>\n",
       "      <td>01/01/2020 12:00:00 AM</td>\n",
       "      <td>12123</td>\n",
       "      <td>12</td>\n",
       "      <td>Florida</td>\n",
       "      <td>7.0</td>\n",
       "      <td>7.0</td>\n",
       "      <td>Total Airports</td>\n",
       "      <td>airports-2020-12123</td>\n",
       "      <td>30.047015</td>\n",
       "      <td>-83.603520</td>\n",
       "      <td>POINT (-83.60352 30.047015)</td>\n",
       "      <td>2020</td>\n",
       "    </tr>\n",
       "    <tr>\n",
       "      <th>2</th>\n",
       "      <td>County</td>\n",
       "      <td>Airports</td>\n",
       "      <td>Total Airports</td>\n",
       "      <td>Stephens County, Texas</td>\n",
       "      <td>01/01/2020 12:00:00 AM</td>\n",
       "      <td>48429</td>\n",
       "      <td>48</td>\n",
       "      <td>Texas</td>\n",
       "      <td>2.0</td>\n",
       "      <td>2.0</td>\n",
       "      <td>Total Airports</td>\n",
       "      <td>airports-2020-48429</td>\n",
       "      <td>32.735872</td>\n",
       "      <td>-98.836184</td>\n",
       "      <td>POINT (-98.836184 32.735872)</td>\n",
       "      <td>2020</td>\n",
       "    </tr>\n",
       "    <tr>\n",
       "      <th>3</th>\n",
       "      <td>County</td>\n",
       "      <td>Airports</td>\n",
       "      <td>Other airports</td>\n",
       "      <td>Knox County, Maine</td>\n",
       "      <td>01/01/2020 12:00:00 AM</td>\n",
       "      <td>23013</td>\n",
       "      <td>23</td>\n",
       "      <td>Maine</td>\n",
       "      <td>7.0</td>\n",
       "      <td>9.0</td>\n",
       "      <td>Total Airports</td>\n",
       "      <td>other-airports-2020-23013</td>\n",
       "      <td>44.155975</td>\n",
       "      <td>-69.234045</td>\n",
       "      <td>POINT (-69.234045 44.155975)</td>\n",
       "      <td>2020</td>\n",
       "    </tr>\n",
       "    <tr>\n",
       "      <th>4</th>\n",
       "      <td>County</td>\n",
       "      <td>Airports</td>\n",
       "      <td>Primary Airports</td>\n",
       "      <td>Colfax County, New Mexico</td>\n",
       "      <td>01/01/2020 12:00:00 AM</td>\n",
       "      <td>35007</td>\n",
       "      <td>35</td>\n",
       "      <td>New Mexico</td>\n",
       "      <td>0.0</td>\n",
       "      <td>5.0</td>\n",
       "      <td>Total Airports</td>\n",
       "      <td>primary-airports-2020-35007</td>\n",
       "      <td>36.606139</td>\n",
       "      <td>-104.646840</td>\n",
       "      <td>POINT (-104.64684 36.606139)</td>\n",
       "      <td>2020</td>\n",
       "    </tr>\n",
       "  </tbody>\n",
       "</table>\n",
       "</div>"
      ],
      "text/plain": [
       "    Level  Category          Variable                     County  \\\n",
       "0  County  Airports    Total Airports    Grant County, Wisconsin   \n",
       "1  County  Airports    Total Airports     Taylor County, Florida   \n",
       "2  County  Airports    Total Airports     Stephens County, Texas   \n",
       "3  County  Airports    Other airports         Knox County, Maine   \n",
       "4  County  Airports  Primary Airports  Colfax County, New Mexico   \n",
       "\n",
       "                     Date  GEOID  State FIPS       State  Value  Denominator  \\\n",
       "0  01/01/2020 12:00:00 AM  55043          55   Wisconsin    9.0          9.0   \n",
       "1  01/01/2020 12:00:00 AM  12123          12     Florida    7.0          7.0   \n",
       "2  01/01/2020 12:00:00 AM  48429          48       Texas    2.0          2.0   \n",
       "3  01/01/2020 12:00:00 AM  23013          23       Maine    7.0          9.0   \n",
       "4  01/01/2020 12:00:00 AM  35007          35  New Mexico    0.0          5.0   \n",
       "\n",
       "  Denominator Description                       Row-ID   Latitude   Longitude  \\\n",
       "0          Total Airports          airports-2020-55043  42.867479  -90.706205   \n",
       "1          Total Airports          airports-2020-12123  30.047015  -83.603520   \n",
       "2          Total Airports          airports-2020-48429  32.735872  -98.836184   \n",
       "3          Total Airports    other-airports-2020-23013  44.155975  -69.234045   \n",
       "4          Total Airports  primary-airports-2020-35007  36.606139 -104.646840   \n",
       "\n",
       "                       Location  Year  \n",
       "0  POINT (-90.706205 42.867479)  2020  \n",
       "1   POINT (-83.60352 30.047015)  2020  \n",
       "2  POINT (-98.836184 32.735872)  2020  \n",
       "3  POINT (-69.234045 44.155975)  2020  \n",
       "4  POINT (-104.64684 36.606139)  2020  "
      ]
     },
     "execution_count": 2,
     "metadata": {},
     "output_type": "execute_result"
    }
   ],
   "source": [
    "with open(\"../data/data.csv\", \"r\") as f:\n",
    "    df = pd.read_csv(f)\n",
    "df.head()"
   ]
  },
  {
   "cell_type": "code",
   "execution_count": 5,
   "metadata": {},
   "outputs": [
    {
     "name": "stdout",
     "output_type": "stream",
     "text": [
      "         Level      Category     Variable                        County  \\\n",
      "338538  County  Person trips  Total trips        Adair County, Kentucky   \n",
      "338541  County  Person trips  Total trips        Cass County, Minnesota   \n",
      "338543  County  Person trips  Total trips        Dundy County, Nebraska   \n",
      "338545  County  Person trips  Total trips          Menard County, Texas   \n",
      "338547  County  Person trips  Total trips        Malheur County, Oregon   \n",
      "...        ...           ...          ...                           ...   \n",
      "407541  County  Person trips  Total trips  Judith Basin County, Montana   \n",
      "407576  County  Person trips  Total trips       Massac County, Illinois   \n",
      "407577  County  Person trips  Total trips     Orange County, California   \n",
      "407589  County  Person trips  Total trips    Butte County, South Dakota   \n",
      "407596  County  Person trips  Total trips         Caribou County, Idaho   \n",
      "\n",
      "                          Date  GEOID  State FIPS         State         Value  \\\n",
      "338538  01/01/2019 12:00:00 AM  21001          21      Kentucky  2.690490e+07   \n",
      "338541  01/01/2020 12:00:00 AM  27021          27     Minnesota  3.458602e+07   \n",
      "338543  01/01/2019 12:00:00 AM  31057          31      Nebraska  2.444445e+06   \n",
      "338545  01/01/2020 12:00:00 AM  48327          48         Texas  2.741053e+06   \n",
      "338547  01/01/2019 12:00:00 AM  41045          41        Oregon  6.099970e+07   \n",
      "...                        ...    ...         ...           ...           ...   \n",
      "407541  01/01/2019 12:00:00 AM  30045          30       Montana  2.284353e+06   \n",
      "407576  01/01/2020 12:00:00 AM  17127          17      Illinois  2.246585e+07   \n",
      "407577  01/01/2020 12:00:00 AM   6059           6    California  3.002547e+09   \n",
      "407589  01/01/2019 12:00:00 AM  46019          46  South Dakota  1.430882e+07   \n",
      "407596  01/01/2020 12:00:00 AM  16029          16         Idaho  6.149330e+06   \n",
      "\n",
      "         Denominator Denominator Description            Row-ID   Latitude  \\\n",
      "338538  2.690490e+07            Person trips  trips-2019-21001  37.104170   \n",
      "338541  3.458602e+07            Person trips  trips-2020-27021  47.117876   \n",
      "338543  2.444445e+06            Person trips  trips-2019-31057  40.176201   \n",
      "338545  2.741053e+06            Person trips  trips-2020-48327  30.889818   \n",
      "338547  6.099970e+07            Person trips  trips-2019-41045  43.193414   \n",
      "...              ...                     ...               ...        ...   \n",
      "407541  2.284353e+06            Person trips  trips-2019-30045  47.045432   \n",
      "407576  2.246585e+07            Person trips  trips-2020-17127  37.218970   \n",
      "407577  3.002547e+09            Person trips  trips-2020-06059  33.702972   \n",
      "407589  1.430882e+07            Person trips  trips-2019-46019  44.905772   \n",
      "407596  6.149330e+06            Person trips  trips-2020-16029  42.770497   \n",
      "\n",
      "         Longitude                       Location  Year  \n",
      "338538  -85.280620     POINT (-85.28062 37.10417)  2019  \n",
      "338541  -94.280528   POINT (-94.280528 47.117876)  2020  \n",
      "338543 -101.687947  POINT (-101.687947 40.176201)  2019  \n",
      "338545  -99.820600     POINT (-99.8206 30.889818)  2020  \n",
      "338547 -117.623150   POINT (-117.62315 43.193414)  2019  \n",
      "...            ...                            ...   ...  \n",
      "407541 -110.266027  POINT (-110.266027 47.045432)  2019  \n",
      "407576  -88.707722    POINT (-88.707722 37.21897)  2020  \n",
      "407577 -117.761070   POINT (-117.76107 33.702972)  2020  \n",
      "407589 -103.507928  POINT (-103.507928 44.905772)  2019  \n",
      "407596 -111.562260   POINT (-111.56226 42.770497)  2020  \n",
      "\n",
      "[6279 rows x 16 columns]\n"
     ]
    }
   ],
   "source": [
    "filtered_df = df[(df['Category'] == 'Person trips') & (df['Variable'] == 'Total trips')]\n",
    "print(filtered_df)"
   ]
  },
  {
   "cell_type": "code",
   "execution_count": 38,
   "metadata": {},
   "outputs": [
    {
     "name": "stdout",
     "output_type": "stream",
     "text": [
      "['AL', 'AK', 'AS', 'AZ', 'AR', 'CA', 'CO', 'CT', 'DE', 'DC', 'FL', 'GA', 'GU', 'HI', 'ID', 'IL', 'IN', 'IA', 'KS', 'KY', 'LA', 'ME', 'MD', 'MA', 'MI', 'MN', 'MS', 'MO', 'MT', 'NE', 'NV', 'NH', 'NJ', 'NM', 'NY', 'NC', 'ND', 'MP', 'OH', 'OK', 'OR', 'PA', 'PR', 'RI', 'SC', 'SD', 'TN', 'TX', 'U.S. Virgin Islands', 'UT', 'VT', 'VA', 'WA', 'WV', 'WI', 'WY']\n"
     ]
    },
    {
     "data": {
      "application/vnd.plotly.v1+json": {
       "config": {
        "plotlyServerURL": "https://plot.ly"
       },
       "data": [
        {
         "coloraxis": "coloraxis",
         "geo": "geo",
         "hovertemplate": "State=%{location}<br>Value=%{z}<extra></extra>",
         "locationmode": "USA-states",
         "locations": [
          "AL",
          "AK",
          "AS",
          "AZ",
          "AR",
          "CA",
          "CO",
          "CT",
          "DE",
          "DC",
          "FL",
          "GA",
          "GU",
          "HI",
          "ID",
          "IL",
          "IN",
          "IA",
          "KS",
          "KY",
          "LA",
          "ME",
          "MD",
          "MA",
          "MI",
          "MN",
          "MS",
          "MO",
          "MT",
          "NE",
          "NV",
          "NH",
          "NJ",
          "NM",
          "NY",
          "NC",
          "ND",
          "MP",
          "OH",
          "OK",
          "OR",
          "PA",
          "PR",
          "RI",
          "SC",
          "SD",
          "TN",
          "TX",
          "U.S. Virgin Islands",
          "UT",
          "VT",
          "VA",
          "WA",
          "WV",
          "WI",
          "WY"
         ],
         "name": "",
         "type": "choropleth",
         "z": [
          23960032620.3271,
          3998235653.2261,
          35597,
          34675031796.1357,
          14782875630.7654,
          197657399246.7727,
          34175861311.799202,
          18775220297.3835,
          4870494412.4454,
          4416675326.709,
          104207405133.8071,
          52757752997.975,
          4721.24,
          6818090046.940001,
          8972747898.952,
          72855894869.2695,
          36306409902.8469,
          17347977961.9326,
          15869432455.3962,
          25021027296.5934,
          26251262734.5427,
          6646402015.1545,
          32278626180.3419,
          43256949291.0777,
          52507049285.015,
          28835594660.5126,
          14164687922.1558,
          31594892203.2582,
          5451412646.5536,
          10280018383.7914,
          15271002050.6529,
          7387162129.4373,
          51025242855.6636,
          12960712252.9959,
          119905772895.0507,
          57118175379.5379,
          3786133237.1411,
          95045,
          61837896771.0722,
          19655916780.5591,
          22500211210.1813,
          66274528345.6491,
          82985119.04,
          5731442505.7126,
          26385820528.3857,
          4766273178.2212,
          35789227486.045,
          139763405294.2274,
          174131.96,
          18175625666.558,
          3347717310.8347,
          46884320270.1411,
          39666185666.5301,
          8984810965.0382,
          30603036152.8078,
          3480595922.9922
         ]
        }
       ],
       "layout": {
        "coloraxis": {
         "colorbar": {
          "title": {
           "text": "Value"
          }
         },
         "colorscale": [
          [
           0,
           "#440154"
          ],
          [
           0.1111111111111111,
           "#482878"
          ],
          [
           0.2222222222222222,
           "#3e4989"
          ],
          [
           0.3333333333333333,
           "#31688e"
          ],
          [
           0.4444444444444444,
           "#26828e"
          ],
          [
           0.5555555555555556,
           "#1f9e89"
          ],
          [
           0.6666666666666666,
           "#35b779"
          ],
          [
           0.7777777777777778,
           "#6ece58"
          ],
          [
           0.8888888888888888,
           "#b5de2b"
          ],
          [
           1,
           "#fde725"
          ]
         ]
        },
        "geo": {
         "center": {},
         "domain": {
          "x": [
           0,
           1
          ],
          "y": [
           0,
           1
          ]
         },
         "scope": "usa"
        },
        "legend": {
         "tracegroupgap": 0
        },
        "template": {
         "data": {
          "bar": [
           {
            "error_x": {
             "color": "#2a3f5f"
            },
            "error_y": {
             "color": "#2a3f5f"
            },
            "marker": {
             "line": {
              "color": "#E5ECF6",
              "width": 0.5
             },
             "pattern": {
              "fillmode": "overlay",
              "size": 10,
              "solidity": 0.2
             }
            },
            "type": "bar"
           }
          ],
          "barpolar": [
           {
            "marker": {
             "line": {
              "color": "#E5ECF6",
              "width": 0.5
             },
             "pattern": {
              "fillmode": "overlay",
              "size": 10,
              "solidity": 0.2
             }
            },
            "type": "barpolar"
           }
          ],
          "carpet": [
           {
            "aaxis": {
             "endlinecolor": "#2a3f5f",
             "gridcolor": "white",
             "linecolor": "white",
             "minorgridcolor": "white",
             "startlinecolor": "#2a3f5f"
            },
            "baxis": {
             "endlinecolor": "#2a3f5f",
             "gridcolor": "white",
             "linecolor": "white",
             "minorgridcolor": "white",
             "startlinecolor": "#2a3f5f"
            },
            "type": "carpet"
           }
          ],
          "choropleth": [
           {
            "colorbar": {
             "outlinewidth": 0,
             "ticks": ""
            },
            "type": "choropleth"
           }
          ],
          "contour": [
           {
            "colorbar": {
             "outlinewidth": 0,
             "ticks": ""
            },
            "colorscale": [
             [
              0,
              "#0d0887"
             ],
             [
              0.1111111111111111,
              "#46039f"
             ],
             [
              0.2222222222222222,
              "#7201a8"
             ],
             [
              0.3333333333333333,
              "#9c179e"
             ],
             [
              0.4444444444444444,
              "#bd3786"
             ],
             [
              0.5555555555555556,
              "#d8576b"
             ],
             [
              0.6666666666666666,
              "#ed7953"
             ],
             [
              0.7777777777777778,
              "#fb9f3a"
             ],
             [
              0.8888888888888888,
              "#fdca26"
             ],
             [
              1,
              "#f0f921"
             ]
            ],
            "type": "contour"
           }
          ],
          "contourcarpet": [
           {
            "colorbar": {
             "outlinewidth": 0,
             "ticks": ""
            },
            "type": "contourcarpet"
           }
          ],
          "heatmap": [
           {
            "colorbar": {
             "outlinewidth": 0,
             "ticks": ""
            },
            "colorscale": [
             [
              0,
              "#0d0887"
             ],
             [
              0.1111111111111111,
              "#46039f"
             ],
             [
              0.2222222222222222,
              "#7201a8"
             ],
             [
              0.3333333333333333,
              "#9c179e"
             ],
             [
              0.4444444444444444,
              "#bd3786"
             ],
             [
              0.5555555555555556,
              "#d8576b"
             ],
             [
              0.6666666666666666,
              "#ed7953"
             ],
             [
              0.7777777777777778,
              "#fb9f3a"
             ],
             [
              0.8888888888888888,
              "#fdca26"
             ],
             [
              1,
              "#f0f921"
             ]
            ],
            "type": "heatmap"
           }
          ],
          "heatmapgl": [
           {
            "colorbar": {
             "outlinewidth": 0,
             "ticks": ""
            },
            "colorscale": [
             [
              0,
              "#0d0887"
             ],
             [
              0.1111111111111111,
              "#46039f"
             ],
             [
              0.2222222222222222,
              "#7201a8"
             ],
             [
              0.3333333333333333,
              "#9c179e"
             ],
             [
              0.4444444444444444,
              "#bd3786"
             ],
             [
              0.5555555555555556,
              "#d8576b"
             ],
             [
              0.6666666666666666,
              "#ed7953"
             ],
             [
              0.7777777777777778,
              "#fb9f3a"
             ],
             [
              0.8888888888888888,
              "#fdca26"
             ],
             [
              1,
              "#f0f921"
             ]
            ],
            "type": "heatmapgl"
           }
          ],
          "histogram": [
           {
            "marker": {
             "pattern": {
              "fillmode": "overlay",
              "size": 10,
              "solidity": 0.2
             }
            },
            "type": "histogram"
           }
          ],
          "histogram2d": [
           {
            "colorbar": {
             "outlinewidth": 0,
             "ticks": ""
            },
            "colorscale": [
             [
              0,
              "#0d0887"
             ],
             [
              0.1111111111111111,
              "#46039f"
             ],
             [
              0.2222222222222222,
              "#7201a8"
             ],
             [
              0.3333333333333333,
              "#9c179e"
             ],
             [
              0.4444444444444444,
              "#bd3786"
             ],
             [
              0.5555555555555556,
              "#d8576b"
             ],
             [
              0.6666666666666666,
              "#ed7953"
             ],
             [
              0.7777777777777778,
              "#fb9f3a"
             ],
             [
              0.8888888888888888,
              "#fdca26"
             ],
             [
              1,
              "#f0f921"
             ]
            ],
            "type": "histogram2d"
           }
          ],
          "histogram2dcontour": [
           {
            "colorbar": {
             "outlinewidth": 0,
             "ticks": ""
            },
            "colorscale": [
             [
              0,
              "#0d0887"
             ],
             [
              0.1111111111111111,
              "#46039f"
             ],
             [
              0.2222222222222222,
              "#7201a8"
             ],
             [
              0.3333333333333333,
              "#9c179e"
             ],
             [
              0.4444444444444444,
              "#bd3786"
             ],
             [
              0.5555555555555556,
              "#d8576b"
             ],
             [
              0.6666666666666666,
              "#ed7953"
             ],
             [
              0.7777777777777778,
              "#fb9f3a"
             ],
             [
              0.8888888888888888,
              "#fdca26"
             ],
             [
              1,
              "#f0f921"
             ]
            ],
            "type": "histogram2dcontour"
           }
          ],
          "mesh3d": [
           {
            "colorbar": {
             "outlinewidth": 0,
             "ticks": ""
            },
            "type": "mesh3d"
           }
          ],
          "parcoords": [
           {
            "line": {
             "colorbar": {
              "outlinewidth": 0,
              "ticks": ""
             }
            },
            "type": "parcoords"
           }
          ],
          "pie": [
           {
            "automargin": true,
            "type": "pie"
           }
          ],
          "scatter": [
           {
            "fillpattern": {
             "fillmode": "overlay",
             "size": 10,
             "solidity": 0.2
            },
            "type": "scatter"
           }
          ],
          "scatter3d": [
           {
            "line": {
             "colorbar": {
              "outlinewidth": 0,
              "ticks": ""
             }
            },
            "marker": {
             "colorbar": {
              "outlinewidth": 0,
              "ticks": ""
             }
            },
            "type": "scatter3d"
           }
          ],
          "scattercarpet": [
           {
            "marker": {
             "colorbar": {
              "outlinewidth": 0,
              "ticks": ""
             }
            },
            "type": "scattercarpet"
           }
          ],
          "scattergeo": [
           {
            "marker": {
             "colorbar": {
              "outlinewidth": 0,
              "ticks": ""
             }
            },
            "type": "scattergeo"
           }
          ],
          "scattergl": [
           {
            "marker": {
             "colorbar": {
              "outlinewidth": 0,
              "ticks": ""
             }
            },
            "type": "scattergl"
           }
          ],
          "scattermapbox": [
           {
            "marker": {
             "colorbar": {
              "outlinewidth": 0,
              "ticks": ""
             }
            },
            "type": "scattermapbox"
           }
          ],
          "scatterpolar": [
           {
            "marker": {
             "colorbar": {
              "outlinewidth": 0,
              "ticks": ""
             }
            },
            "type": "scatterpolar"
           }
          ],
          "scatterpolargl": [
           {
            "marker": {
             "colorbar": {
              "outlinewidth": 0,
              "ticks": ""
             }
            },
            "type": "scatterpolargl"
           }
          ],
          "scatterternary": [
           {
            "marker": {
             "colorbar": {
              "outlinewidth": 0,
              "ticks": ""
             }
            },
            "type": "scatterternary"
           }
          ],
          "surface": [
           {
            "colorbar": {
             "outlinewidth": 0,
             "ticks": ""
            },
            "colorscale": [
             [
              0,
              "#0d0887"
             ],
             [
              0.1111111111111111,
              "#46039f"
             ],
             [
              0.2222222222222222,
              "#7201a8"
             ],
             [
              0.3333333333333333,
              "#9c179e"
             ],
             [
              0.4444444444444444,
              "#bd3786"
             ],
             [
              0.5555555555555556,
              "#d8576b"
             ],
             [
              0.6666666666666666,
              "#ed7953"
             ],
             [
              0.7777777777777778,
              "#fb9f3a"
             ],
             [
              0.8888888888888888,
              "#fdca26"
             ],
             [
              1,
              "#f0f921"
             ]
            ],
            "type": "surface"
           }
          ],
          "table": [
           {
            "cells": {
             "fill": {
              "color": "#EBF0F8"
             },
             "line": {
              "color": "white"
             }
            },
            "header": {
             "fill": {
              "color": "#C8D4E3"
             },
             "line": {
              "color": "white"
             }
            },
            "type": "table"
           }
          ]
         },
         "layout": {
          "annotationdefaults": {
           "arrowcolor": "#2a3f5f",
           "arrowhead": 0,
           "arrowwidth": 1
          },
          "autotypenumbers": "strict",
          "coloraxis": {
           "colorbar": {
            "outlinewidth": 0,
            "ticks": ""
           }
          },
          "colorscale": {
           "diverging": [
            [
             0,
             "#8e0152"
            ],
            [
             0.1,
             "#c51b7d"
            ],
            [
             0.2,
             "#de77ae"
            ],
            [
             0.3,
             "#f1b6da"
            ],
            [
             0.4,
             "#fde0ef"
            ],
            [
             0.5,
             "#f7f7f7"
            ],
            [
             0.6,
             "#e6f5d0"
            ],
            [
             0.7,
             "#b8e186"
            ],
            [
             0.8,
             "#7fbc41"
            ],
            [
             0.9,
             "#4d9221"
            ],
            [
             1,
             "#276419"
            ]
           ],
           "sequential": [
            [
             0,
             "#0d0887"
            ],
            [
             0.1111111111111111,
             "#46039f"
            ],
            [
             0.2222222222222222,
             "#7201a8"
            ],
            [
             0.3333333333333333,
             "#9c179e"
            ],
            [
             0.4444444444444444,
             "#bd3786"
            ],
            [
             0.5555555555555556,
             "#d8576b"
            ],
            [
             0.6666666666666666,
             "#ed7953"
            ],
            [
             0.7777777777777778,
             "#fb9f3a"
            ],
            [
             0.8888888888888888,
             "#fdca26"
            ],
            [
             1,
             "#f0f921"
            ]
           ],
           "sequentialminus": [
            [
             0,
             "#0d0887"
            ],
            [
             0.1111111111111111,
             "#46039f"
            ],
            [
             0.2222222222222222,
             "#7201a8"
            ],
            [
             0.3333333333333333,
             "#9c179e"
            ],
            [
             0.4444444444444444,
             "#bd3786"
            ],
            [
             0.5555555555555556,
             "#d8576b"
            ],
            [
             0.6666666666666666,
             "#ed7953"
            ],
            [
             0.7777777777777778,
             "#fb9f3a"
            ],
            [
             0.8888888888888888,
             "#fdca26"
            ],
            [
             1,
             "#f0f921"
            ]
           ]
          },
          "colorway": [
           "#636efa",
           "#EF553B",
           "#00cc96",
           "#ab63fa",
           "#FFA15A",
           "#19d3f3",
           "#FF6692",
           "#B6E880",
           "#FF97FF",
           "#FECB52"
          ],
          "font": {
           "color": "#2a3f5f"
          },
          "geo": {
           "bgcolor": "white",
           "lakecolor": "white",
           "landcolor": "#E5ECF6",
           "showlakes": true,
           "showland": true,
           "subunitcolor": "white"
          },
          "hoverlabel": {
           "align": "left"
          },
          "hovermode": "closest",
          "mapbox": {
           "style": "light"
          },
          "paper_bgcolor": "white",
          "plot_bgcolor": "#E5ECF6",
          "polar": {
           "angularaxis": {
            "gridcolor": "white",
            "linecolor": "white",
            "ticks": ""
           },
           "bgcolor": "#E5ECF6",
           "radialaxis": {
            "gridcolor": "white",
            "linecolor": "white",
            "ticks": ""
           }
          },
          "scene": {
           "xaxis": {
            "backgroundcolor": "#E5ECF6",
            "gridcolor": "white",
            "gridwidth": 2,
            "linecolor": "white",
            "showbackground": true,
            "ticks": "",
            "zerolinecolor": "white"
           },
           "yaxis": {
            "backgroundcolor": "#E5ECF6",
            "gridcolor": "white",
            "gridwidth": 2,
            "linecolor": "white",
            "showbackground": true,
            "ticks": "",
            "zerolinecolor": "white"
           },
           "zaxis": {
            "backgroundcolor": "#E5ECF6",
            "gridcolor": "white",
            "gridwidth": 2,
            "linecolor": "white",
            "showbackground": true,
            "ticks": "",
            "zerolinecolor": "white"
           }
          },
          "shapedefaults": {
           "line": {
            "color": "#2a3f5f"
           }
          },
          "ternary": {
           "aaxis": {
            "gridcolor": "white",
            "linecolor": "white",
            "ticks": ""
           },
           "baxis": {
            "gridcolor": "white",
            "linecolor": "white",
            "ticks": ""
           },
           "bgcolor": "#E5ECF6",
           "caxis": {
            "gridcolor": "white",
            "linecolor": "white",
            "ticks": ""
           }
          },
          "title": {
           "x": 0.05
          },
          "xaxis": {
           "automargin": true,
           "gridcolor": "white",
           "linecolor": "white",
           "ticks": "",
           "title": {
            "standoff": 15
           },
           "zerolinecolor": "white",
           "zerolinewidth": 2
          },
          "yaxis": {
           "automargin": true,
           "gridcolor": "white",
           "linecolor": "white",
           "ticks": "",
           "title": {
            "standoff": 15
           },
           "zerolinecolor": "white",
           "zerolinewidth": 2
          }
         }
        },
        "title": {
         "text": "Choropleth Map based on State Values of Travel Frequency"
        }
       }
      }
     },
     "metadata": {},
     "output_type": "display_data"
    }
   ],
   "source": [
    "aggregated_df = df.groupby('State')['Value'].sum().reset_index()\n",
    "def abbreviate_states(states):\n",
    "    state_dict = {\n",
    "        'Alabama': 'AL', 'Alaska': 'AK', 'American Samoa': 'AS', 'Arizona': 'AZ', 'Arkansas': 'AR',\n",
    "        'California': 'CA', 'Colorado': 'CO', 'Connecticut': 'CT', 'Delaware': 'DE', 'Florida': 'FL',\n",
    "        'Georgia': 'GA', 'Guam': 'GU', 'Hawaii': 'HI', 'Idaho': 'ID', 'Illinois': 'IL',\n",
    "        'Indiana': 'IN', 'Iowa': 'IA', 'Kansas': 'KS', 'Kentucky': 'KY', 'Louisiana': 'LA',\n",
    "        'Maine': 'ME', 'Maryland': 'MD', 'Massachusetts': 'MA', 'Michigan': 'MI', 'Minnesota': 'MN',\n",
    "        'Mississippi': 'MS', 'Missouri': 'MO', 'Montana': 'MT', 'Nebraska': 'NE', 'Nevada': 'NV',\n",
    "        'New Hampshire': 'NH', 'New Jersey': 'NJ', 'New Mexico': 'NM', 'New York': 'NY', 'North Carolina': 'NC',\n",
    "        'North Dakota': 'ND', 'Northern Mariana Islands': 'MP', 'Ohio': 'OH', 'Oklahoma': 'OK', 'Oregon': 'OR',\n",
    "        'Pennsylvania': 'PA', 'Puerto Rico': 'PR', 'Rhode Island': 'RI', 'South Carolina': 'SC', 'South Dakota': 'SD',\n",
    "        'Tennessee': 'TN', 'Texas': 'TX', 'Utah': 'UT', 'Vermont': 'VT', 'Virgin Islands': 'VI',\n",
    "        'Virginia': 'VA', 'Washington': 'WA', 'West Virginia': 'WV', 'Wisconsin': 'WI', 'Wyoming': 'WY',\n",
    "        'District of Columbia': 'DC'\n",
    "    }\n",
    "    abbreviated_states = [state_dict[state] if state in state_dict else state for state in states]\n",
    "\n",
    "    return abbreviated_states\n",
    "\n",
    "print(abbreviate_states(aggregated_df['State']))\n",
    "aggregated_df['State'] = abbreviate_states(aggregated_df['State'])\n",
    "\n",
    "fig = px.choropleth(\n",
    "    aggregated_df,\n",
    "    locations='State',\n",
    "    color_continuous_scale=\"Viridis\",\n",
    "    locationmode='USA-states',\n",
    "    color='Value',\n",
    "    scope='usa',\n",
    "    title='Choropleth Map based on State Values of Travel Frequency'\n",
    ")\n",
    "\n",
    "fig.show()"
   ]
  }
 ],
 "metadata": {
  "kernelspec": {
   "display_name": "base",
   "language": "python",
   "name": "python3"
  },
  "language_info": {
   "codemirror_mode": {
    "name": "ipython",
    "version": 3
   },
   "file_extension": ".py",
   "mimetype": "text/x-python",
   "name": "python",
   "nbconvert_exporter": "python",
   "pygments_lexer": "ipython3",
   "version": "3.10.13"
  }
 },
 "nbformat": 4,
 "nbformat_minor": 2
}
