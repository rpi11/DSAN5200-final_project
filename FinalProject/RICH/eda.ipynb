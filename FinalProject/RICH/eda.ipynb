{
 "cells": [
  {
   "cell_type": "markdown",
   "metadata": {},
   "source": [
    "---\n",
    "format:\n",
    "  html:\n",
    "    code-fold: true\n",
    "execute:\n",
    "  warning: false\n",
    "---"
   ]
  },
  {
   "cell_type": "markdown",
   "metadata": {},
   "source": [
    "# Initial EDA"
   ]
  },
  {
   "cell_type": "markdown",
   "metadata": {},
   "source": [
    "## Import"
   ]
  },
  {
   "cell_type": "code",
   "execution_count": 5,
   "metadata": {},
   "outputs": [],
   "source": [
    "import pandas as pd\n",
    "import numpy as np\n",
    "import matplotlib.pyplot as plt\n",
    "import json"
   ]
  },
  {
   "cell_type": "code",
   "execution_count": 14,
   "metadata": {},
   "outputs": [
    {
     "data": {
      "text/html": [
       "<div>\n",
       "<style scoped>\n",
       "    .dataframe tbody tr th:only-of-type {\n",
       "        vertical-align: middle;\n",
       "    }\n",
       "\n",
       "    .dataframe tbody tr th {\n",
       "        vertical-align: top;\n",
       "    }\n",
       "\n",
       "    .dataframe thead th {\n",
       "        text-align: right;\n",
       "    }\n",
       "</style>\n",
       "<table border=\"1\" class=\"dataframe\">\n",
       "  <thead>\n",
       "    <tr style=\"text-align: right;\">\n",
       "      <th></th>\n",
       "      <th>Level</th>\n",
       "      <th>Category</th>\n",
       "      <th>Variable</th>\n",
       "      <th>County</th>\n",
       "      <th>Date</th>\n",
       "      <th>GEOID</th>\n",
       "      <th>State FIPS</th>\n",
       "      <th>State</th>\n",
       "      <th>Value</th>\n",
       "      <th>Denominator</th>\n",
       "      <th>Denominator Description</th>\n",
       "      <th>Row-ID</th>\n",
       "      <th>Latitude</th>\n",
       "      <th>Longitude</th>\n",
       "      <th>Location</th>\n",
       "      <th>Year</th>\n",
       "    </tr>\n",
       "  </thead>\n",
       "  <tbody>\n",
       "    <tr>\n",
       "      <th>0</th>\n",
       "      <td>County</td>\n",
       "      <td>Airports</td>\n",
       "      <td>Total Airports</td>\n",
       "      <td>Grant County, Wisconsin</td>\n",
       "      <td>01/01/2020 12:00:00 AM</td>\n",
       "      <td>55043</td>\n",
       "      <td>55</td>\n",
       "      <td>Wisconsin</td>\n",
       "      <td>9.0</td>\n",
       "      <td>9.0</td>\n",
       "      <td>Total Airports</td>\n",
       "      <td>airports-2020-55043</td>\n",
       "      <td>42.867479</td>\n",
       "      <td>-90.706205</td>\n",
       "      <td>POINT (-90.706205 42.867479)</td>\n",
       "      <td>2020</td>\n",
       "    </tr>\n",
       "    <tr>\n",
       "      <th>1</th>\n",
       "      <td>County</td>\n",
       "      <td>Airports</td>\n",
       "      <td>Total Airports</td>\n",
       "      <td>Taylor County, Florida</td>\n",
       "      <td>01/01/2020 12:00:00 AM</td>\n",
       "      <td>12123</td>\n",
       "      <td>12</td>\n",
       "      <td>Florida</td>\n",
       "      <td>7.0</td>\n",
       "      <td>7.0</td>\n",
       "      <td>Total Airports</td>\n",
       "      <td>airports-2020-12123</td>\n",
       "      <td>30.047015</td>\n",
       "      <td>-83.603520</td>\n",
       "      <td>POINT (-83.60352 30.047015)</td>\n",
       "      <td>2020</td>\n",
       "    </tr>\n",
       "    <tr>\n",
       "      <th>2</th>\n",
       "      <td>County</td>\n",
       "      <td>Airports</td>\n",
       "      <td>Total Airports</td>\n",
       "      <td>Stephens County, Texas</td>\n",
       "      <td>01/01/2020 12:00:00 AM</td>\n",
       "      <td>48429</td>\n",
       "      <td>48</td>\n",
       "      <td>Texas</td>\n",
       "      <td>2.0</td>\n",
       "      <td>2.0</td>\n",
       "      <td>Total Airports</td>\n",
       "      <td>airports-2020-48429</td>\n",
       "      <td>32.735872</td>\n",
       "      <td>-98.836184</td>\n",
       "      <td>POINT (-98.836184 32.735872)</td>\n",
       "      <td>2020</td>\n",
       "    </tr>\n",
       "    <tr>\n",
       "      <th>3</th>\n",
       "      <td>County</td>\n",
       "      <td>Airports</td>\n",
       "      <td>Other airports</td>\n",
       "      <td>Knox County, Maine</td>\n",
       "      <td>01/01/2020 12:00:00 AM</td>\n",
       "      <td>23013</td>\n",
       "      <td>23</td>\n",
       "      <td>Maine</td>\n",
       "      <td>7.0</td>\n",
       "      <td>9.0</td>\n",
       "      <td>Total Airports</td>\n",
       "      <td>other-airports-2020-23013</td>\n",
       "      <td>44.155975</td>\n",
       "      <td>-69.234045</td>\n",
       "      <td>POINT (-69.234045 44.155975)</td>\n",
       "      <td>2020</td>\n",
       "    </tr>\n",
       "    <tr>\n",
       "      <th>4</th>\n",
       "      <td>County</td>\n",
       "      <td>Airports</td>\n",
       "      <td>Primary Airports</td>\n",
       "      <td>Colfax County, New Mexico</td>\n",
       "      <td>01/01/2020 12:00:00 AM</td>\n",
       "      <td>35007</td>\n",
       "      <td>35</td>\n",
       "      <td>New Mexico</td>\n",
       "      <td>0.0</td>\n",
       "      <td>5.0</td>\n",
       "      <td>Total Airports</td>\n",
       "      <td>primary-airports-2020-35007</td>\n",
       "      <td>36.606139</td>\n",
       "      <td>-104.646840</td>\n",
       "      <td>POINT (-104.64684 36.606139)</td>\n",
       "      <td>2020</td>\n",
       "    </tr>\n",
       "  </tbody>\n",
       "</table>\n",
       "</div>"
      ],
      "text/plain": [
       "    Level  Category          Variable                     County  \\\n",
       "0  County  Airports    Total Airports    Grant County, Wisconsin   \n",
       "1  County  Airports    Total Airports     Taylor County, Florida   \n",
       "2  County  Airports    Total Airports     Stephens County, Texas   \n",
       "3  County  Airports    Other airports         Knox County, Maine   \n",
       "4  County  Airports  Primary Airports  Colfax County, New Mexico   \n",
       "\n",
       "                     Date  GEOID  State FIPS       State  Value  Denominator  \\\n",
       "0  01/01/2020 12:00:00 AM  55043          55   Wisconsin    9.0          9.0   \n",
       "1  01/01/2020 12:00:00 AM  12123          12     Florida    7.0          7.0   \n",
       "2  01/01/2020 12:00:00 AM  48429          48       Texas    2.0          2.0   \n",
       "3  01/01/2020 12:00:00 AM  23013          23       Maine    7.0          9.0   \n",
       "4  01/01/2020 12:00:00 AM  35007          35  New Mexico    0.0          5.0   \n",
       "\n",
       "  Denominator Description                       Row-ID   Latitude   Longitude  \\\n",
       "0          Total Airports          airports-2020-55043  42.867479  -90.706205   \n",
       "1          Total Airports          airports-2020-12123  30.047015  -83.603520   \n",
       "2          Total Airports          airports-2020-48429  32.735872  -98.836184   \n",
       "3          Total Airports    other-airports-2020-23013  44.155975  -69.234045   \n",
       "4          Total Airports  primary-airports-2020-35007  36.606139 -104.646840   \n",
       "\n",
       "                       Location  Year  \n",
       "0  POINT (-90.706205 42.867479)  2020  \n",
       "1   POINT (-83.60352 30.047015)  2020  \n",
       "2  POINT (-98.836184 32.735872)  2020  \n",
       "3  POINT (-69.234045 44.155975)  2020  \n",
       "4  POINT (-104.64684 36.606139)  2020  "
      ]
     },
     "execution_count": 14,
     "metadata": {},
     "output_type": "execute_result"
    }
   ],
   "source": [
    "with open(\"../data/data.csv\", \"r\") as f:\n",
    "    df = pd.read_csv(f)\n",
    "df.head()"
   ]
  },
  {
   "cell_type": "markdown",
   "metadata": {},
   "source": [
    "## Groupings\n",
    "\n",
    "1. \"Category\""
   ]
  },
  {
   "cell_type": "code",
   "execution_count": 7,
   "metadata": {},
   "outputs": [
    {
     "name": "stdout",
     "output_type": "stream",
     "text": [
      "['Airports', 'Bridges', 'Business', 'Commuting', 'Demographics', 'Maritime', 'Person trips', 'Railroad']\n"
     ]
    }
   ],
   "source": [
    "cats = list(df[\"Category\"].unique())\n",
    "print(cats)"
   ]
  },
  {
   "cell_type": "code",
   "execution_count": 8,
   "metadata": {},
   "outputs": [
    {
     "name": "stdout",
     "output_type": "stream",
     "text": [
      "{\n",
      "    \"Airports\": [\n",
      "        \"Total Airports\",\n",
      "        \"Other airports\",\n",
      "        \"Primary Airports\",\n",
      "        \"Commercial-service Airports\",\n",
      "        \"Civil use and seaplane bases\"\n",
      "    ],\n",
      "    \"Bridges\": [\n",
      "        \"Bridges, poor\",\n",
      "        \"Bridges, fair\",\n",
      "        \"Total bridges\",\n",
      "        \"Bridges, good\",\n",
      "        \"Bridge area (square meters)\",\n",
      "        \"Bridge area, poor (square meters)\",\n",
      "        \"Bridge area, fair (square meters)\",\n",
      "        \"Bridge area, good (square meters)\"\n",
      "    ],\n",
      "    \"Business\": [\n",
      "        \"Establishments\",\n",
      "        \"Employees\"\n",
      "    ],\n",
      "    \"Commuting\": [\n",
      "        \"Workers\",\n",
      "        \"Commute by car/ truck/van\",\n",
      "        \"Work at home\",\n",
      "        \"Work in-state\",\n",
      "        \"Work out-of-state\",\n",
      "        \"Commute by public transportation\",\n",
      "        \"Workers wo/ a vehicle\"\n",
      "    ],\n",
      "    \"Demographics\": [\n",
      "        \"Population\",\n",
      "        \"Hispanic\",\n",
      "        \"Median Household Income\",\n",
      "        \"Non Hispanic White Alone\"\n",
      "    ],\n",
      "    \"Maritime\": [\n",
      "        \"Marinas\",\n",
      "        \"Docks\"\n",
      "    ],\n",
      "    \"Person trips\": [\n",
      "        \"Trips 1-3 miles\",\n",
      "        \"Trips less than 1 mile\",\n",
      "        \"Total trips\",\n",
      "        \"Trips 10-25 miles\",\n",
      "        \"Trips 25-50 miles\",\n",
      "        \"Trips 100-250 miles\",\n",
      "        \"Trips 3-5 miles\",\n",
      "        \"Trips 5-10 miles\",\n",
      "        \"Trips 250-500 miles\",\n",
      "        \"Trips 50-100 miles\",\n",
      "        \"Trips greater than or equal to 500 miles\"\n",
      "    ],\n",
      "    \"Railroad\": [\n",
      "        \"Rail freight miles\",\n",
      "        \"Rail passenger miles\"\n",
      "    ]\n",
      "}\n"
     ]
    }
   ],
   "source": [
    "catVars = {}\n",
    "for cat in cats:\n",
    "    if cat not in catVars:\n",
    "        catVars[cat] = []\n",
    "    \n",
    "    for var in df[df[\"Category\"] == cat][\"Variable\"].unique():\n",
    "        catVars[cat].append(var)\n",
    "    \n",
    "print(json.dumps(catVars, indent = 4))"
   ]
  },
  {
   "cell_type": "code",
   "execution_count": 9,
   "metadata": {},
   "outputs": [
    {
     "data": {
      "text/plain": [
       "41"
      ]
     },
     "execution_count": 9,
     "metadata": {},
     "output_type": "execute_result"
    }
   ],
   "source": [
    "len(df[\"Variable\"].unique())"
   ]
  },
  {
   "cell_type": "markdown",
   "metadata": {},
   "source": [
    "# Dates"
   ]
  },
  {
   "cell_type": "code",
   "execution_count": 10,
   "metadata": {},
   "outputs": [
    {
     "data": {
      "text/plain": [
       "[2014, 2015, 2016, 2017, 2018, 2019, 2020, 2021]"
      ]
     },
     "execution_count": 10,
     "metadata": {},
     "output_type": "execute_result"
    }
   ],
   "source": [
    "sorted(list(df[\"Year\"].unique()))"
   ]
  },
  {
   "cell_type": "code",
   "execution_count": 11,
   "metadata": {},
   "outputs": [
    {
     "data": {
      "image/png": "[encoded data removed]",
      "text/plain": [
       "<Figure size 640x480 with 1 Axes>"
      ]
     },
     "metadata": {},
     "output_type": "display_data"
    }
   ],
   "source": [
    "bins = [i + 0.5 for i in range(2013, 2022)]\n",
    "labs = [str(i) for i in range(2013, 2022)]\n",
    "\n",
    "plt.hist(df[\"Year\"], bins = bins, edgecolor = \"black\")\n",
    "plt.show()"
   ]
  },
  {
   "cell_type": "markdown",
   "metadata": {},
   "source": [
    "# Locations"
   ]
  },
  {
   "cell_type": "code",
   "execution_count": 12,
   "metadata": {},
   "outputs": [
    {
     "data": {
      "text/plain": [
       "56"
      ]
     },
     "execution_count": 12,
     "metadata": {},
     "output_type": "execute_result"
    }
   ],
   "source": [
    "states = sorted(list(df[\"State\"].unique()))\n",
    "len(states)"
   ]
  },
  {
   "cell_type": "code",
   "execution_count": 13,
   "metadata": {},
   "outputs": [
    {
     "data": {
      "text/plain": [
       "3233"
      ]
     },
     "execution_count": 13,
     "metadata": {},
     "output_type": "execute_result"
    }
   ],
   "source": [
    "counties = sorted(list(df[\"County\"].unique()))\n",
    "len(counties)"
   ]
  }
 ],
 "metadata": {
  "kernelspec": {
   "display_name": "dsan5200",
   "language": "python",
   "name": "python3"
  },
  "language_info": {
   "codemirror_mode": {
    "name": "ipython",
    "version": 3
   },
   "file_extension": ".py",
   "mimetype": "text/x-python",
   "name": "python",
   "nbconvert_exporter": "python",
   "pygments_lexer": "ipython3",
   "version": "3.10.13"
  }
 },
 "nbformat": 4,
 "nbformat_minor": 2
}
