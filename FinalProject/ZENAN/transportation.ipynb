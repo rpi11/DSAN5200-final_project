{
 "cells": [
  {
   "cell_type": "markdown",
   "metadata": {},
   "source": [
    "---\n",
    "format:\n",
    "  html:\n",
    "    code-fold: true\n",
    "execute:\n",
    "  warning: false\n",
    "---"
   ]
  },
  {
   "cell_type": "markdown",
   "metadata": {},
   "source": [
    "# Transporation Methods"
   ]
  },
  {
   "cell_type": "code",
   "execution_count": 8,
   "metadata": {},
   "outputs": [],
   "source": [
    "import pandas as pd\n",
    "import numpy as np\n",
    "import matplotlib.pyplot as plt\n",
    "import plotly.express as px\n",
    "import plotly.figure_factory as ff\n",
    "import warnings\n",
    "warnings.filterwarnings('ignore')"
   ]
  },
  {
   "cell_type": "code",
   "execution_count": 9,
   "metadata": {},
   "outputs": [
    {
     "data": {
      "text/html": [
       "<div>\n",
       "<style scoped>\n",
       "    .dataframe tbody tr th:only-of-type {\n",
       "        vertical-align: middle;\n",
       "    }\n",
       "\n",
       "    .dataframe tbody tr th {\n",
       "        vertical-align: top;\n",
       "    }\n",
       "\n",
       "    .dataframe thead th {\n",
       "        text-align: right;\n",
       "    }\n",
       "</style>\n",
       "<table border=\"1\" class=\"dataframe\">\n",
       "  <thead>\n",
       "    <tr style=\"text-align: right;\">\n",
       "      <th></th>\n",
       "      <th>Level</th>\n",
       "      <th>Category</th>\n",
       "      <th>Variable</th>\n",
       "      <th>County</th>\n",
       "      <th>Date</th>\n",
       "      <th>GEOID</th>\n",
       "      <th>State FIPS</th>\n",
       "      <th>State</th>\n",
       "      <th>Value</th>\n",
       "      <th>Denominator</th>\n",
       "      <th>Denominator Description</th>\n",
       "      <th>Row-ID</th>\n",
       "      <th>Latitude</th>\n",
       "      <th>Longitude</th>\n",
       "      <th>Location</th>\n",
       "      <th>Year</th>\n",
       "    </tr>\n",
       "  </thead>\n",
       "  <tbody>\n",
       "    <tr>\n",
       "      <th>0</th>\n",
       "      <td>County</td>\n",
       "      <td>Airports</td>\n",
       "      <td>Total Airports</td>\n",
       "      <td>Grant County, Wisconsin</td>\n",
       "      <td>01/01/2020 12:00:00 AM</td>\n",
       "      <td>55043</td>\n",
       "      <td>55</td>\n",
       "      <td>Wisconsin</td>\n",
       "      <td>9.0</td>\n",
       "      <td>9.0</td>\n",
       "      <td>Total Airports</td>\n",
       "      <td>airports-2020-55043</td>\n",
       "      <td>42.867479</td>\n",
       "      <td>-90.706205</td>\n",
       "      <td>POINT (-90.706205 42.867479)</td>\n",
       "      <td>2020</td>\n",
       "    </tr>\n",
       "    <tr>\n",
       "      <th>1</th>\n",
       "      <td>County</td>\n",
       "      <td>Airports</td>\n",
       "      <td>Total Airports</td>\n",
       "      <td>Taylor County, Florida</td>\n",
       "      <td>01/01/2020 12:00:00 AM</td>\n",
       "      <td>12123</td>\n",
       "      <td>12</td>\n",
       "      <td>Florida</td>\n",
       "      <td>7.0</td>\n",
       "      <td>7.0</td>\n",
       "      <td>Total Airports</td>\n",
       "      <td>airports-2020-12123</td>\n",
       "      <td>30.047015</td>\n",
       "      <td>-83.603520</td>\n",
       "      <td>POINT (-83.60352 30.047015)</td>\n",
       "      <td>2020</td>\n",
       "    </tr>\n",
       "    <tr>\n",
       "      <th>2</th>\n",
       "      <td>County</td>\n",
       "      <td>Airports</td>\n",
       "      <td>Total Airports</td>\n",
       "      <td>Stephens County, Texas</td>\n",
       "      <td>01/01/2020 12:00:00 AM</td>\n",
       "      <td>48429</td>\n",
       "      <td>48</td>\n",
       "      <td>Texas</td>\n",
       "      <td>2.0</td>\n",
       "      <td>2.0</td>\n",
       "      <td>Total Airports</td>\n",
       "      <td>airports-2020-48429</td>\n",
       "      <td>32.735872</td>\n",
       "      <td>-98.836184</td>\n",
       "      <td>POINT (-98.836184 32.735872)</td>\n",
       "      <td>2020</td>\n",
       "    </tr>\n",
       "    <tr>\n",
       "      <th>3</th>\n",
       "      <td>County</td>\n",
       "      <td>Airports</td>\n",
       "      <td>Other airports</td>\n",
       "      <td>Knox County, Maine</td>\n",
       "      <td>01/01/2020 12:00:00 AM</td>\n",
       "      <td>23013</td>\n",
       "      <td>23</td>\n",
       "      <td>Maine</td>\n",
       "      <td>7.0</td>\n",
       "      <td>9.0</td>\n",
       "      <td>Total Airports</td>\n",
       "      <td>other-airports-2020-23013</td>\n",
       "      <td>44.155975</td>\n",
       "      <td>-69.234045</td>\n",
       "      <td>POINT (-69.234045 44.155975)</td>\n",
       "      <td>2020</td>\n",
       "    </tr>\n",
       "    <tr>\n",
       "      <th>4</th>\n",
       "      <td>County</td>\n",
       "      <td>Airports</td>\n",
       "      <td>Primary Airports</td>\n",
       "      <td>Colfax County, New Mexico</td>\n",
       "      <td>01/01/2020 12:00:00 AM</td>\n",
       "      <td>35007</td>\n",
       "      <td>35</td>\n",
       "      <td>New Mexico</td>\n",
       "      <td>0.0</td>\n",
       "      <td>5.0</td>\n",
       "      <td>Total Airports</td>\n",
       "      <td>primary-airports-2020-35007</td>\n",
       "      <td>36.606139</td>\n",
       "      <td>-104.646840</td>\n",
       "      <td>POINT (-104.64684 36.606139)</td>\n",
       "      <td>2020</td>\n",
       "    </tr>\n",
       "  </tbody>\n",
       "</table>\n",
       "</div>"
      ],
      "text/plain": [
       "    Level  Category          Variable                     County  \\\n",
       "0  County  Airports    Total Airports    Grant County, Wisconsin   \n",
       "1  County  Airports    Total Airports     Taylor County, Florida   \n",
       "2  County  Airports    Total Airports     Stephens County, Texas   \n",
       "3  County  Airports    Other airports         Knox County, Maine   \n",
       "4  County  Airports  Primary Airports  Colfax County, New Mexico   \n",
       "\n",
       "                     Date  GEOID  State FIPS       State  Value  Denominator  \\\n",
       "0  01/01/2020 12:00:00 AM  55043          55   Wisconsin    9.0          9.0   \n",
       "1  01/01/2020 12:00:00 AM  12123          12     Florida    7.0          7.0   \n",
       "2  01/01/2020 12:00:00 AM  48429          48       Texas    2.0          2.0   \n",
       "3  01/01/2020 12:00:00 AM  23013          23       Maine    7.0          9.0   \n",
       "4  01/01/2020 12:00:00 AM  35007          35  New Mexico    0.0          5.0   \n",
       "\n",
       "  Denominator Description                       Row-ID   Latitude   Longitude  \\\n",
       "0          Total Airports          airports-2020-55043  42.867479  -90.706205   \n",
       "1          Total Airports          airports-2020-12123  30.047015  -83.603520   \n",
       "2          Total Airports          airports-2020-48429  32.735872  -98.836184   \n",
       "3          Total Airports    other-airports-2020-23013  44.155975  -69.234045   \n",
       "4          Total Airports  primary-airports-2020-35007  36.606139 -104.646840   \n",
       "\n",
       "                       Location  Year  \n",
       "0  POINT (-90.706205 42.867479)  2020  \n",
       "1   POINT (-83.60352 30.047015)  2020  \n",
       "2  POINT (-98.836184 32.735872)  2020  \n",
       "3  POINT (-69.234045 44.155975)  2020  \n",
       "4  POINT (-104.64684 36.606139)  2020  "
      ]
     },
     "execution_count": 9,
     "metadata": {},
     "output_type": "execute_result"
    }
   ],
   "source": [
    "with open(\"../data/data.csv\", \"r\") as f:\n",
    "    df = pd.read_csv(f)\n",
    "df.head()"
   ]
  },
  {
   "cell_type": "code",
   "execution_count": 10,
   "metadata": {},
   "outputs": [],
   "source": [
    "filtered_df = df[(df['Category'] == 'Person trips') & (df['Variable'] == 'Total trips')]"
   ]
  },
  {
   "cell_type": "code",
   "execution_count": 11,
   "metadata": {},
   "outputs": [],
   "source": [
    "filtered_df = filtered_df[filtered_df['State'].isin([\"California\", \"Texas\", \"New York\", \"Florida\", \"Illinois\"])]"
   ]
  },
  {
   "cell_type": "code",
   "execution_count": 12,
   "metadata": {},
   "outputs": [],
   "source": [
    "top_50_values_df = filtered_df.nlargest(50, 'Value')\n",
    "population_vs_commute = df[(df['Category'] == \"Demographics\") | (df['Category'] == \"Commuting\")]\n",
    "population_vs_commute = population_vs_commute[population_vs_commute['Variable'].isin([\"Workers\", \"Commute by car/ truck/van\", \"Commute by public transportation\", \"Work at home\",\"Population\" ])]\n",
    "population_vs_commute = population_vs_commute[population_vs_commute['GEOID'].isin(top_50_values_df['GEOID'])]"
   ]
  },
  {
   "cell_type": "code",
   "execution_count": 14,
   "metadata": {},
   "outputs": [
    {
     "data": {
      "application/vnd.plotly.v1+json": {
       "config": {
        "plotlyServerURL": "https://plot.ly"
       },
       "data": [
        {
         "hovertemplate": "Variable=Commute by car/ truck/van<br>County name=%{x}<br>Value=%{y}<extra></extra>",
         "legendgroup": "Commute by car/ truck/van",
         "line": {
          "color": "#636efa",
          "dash": "solid"
         },
         "marker": {
          "symbol": "circle"
         },
         "mode": "lines",
         "name": "Commute by car/ truck/van",
         "orientation": "v",
         "showlegend": true,
         "type": "scatter",
         "x": [
          "Alameda County, California",
          "Bexar County, Texas",
          "Bronx County, New York",
          "Broward County, Florida",
          "Contra Costa County, California",
          "Cook County, Illinois",
          "Dallas County, Texas",
          "Erie County, New York",
          "Fresno County, California",
          "Harris County, Texas",
          "Hillsborough County, Florida",
          "Kern County, California",
          "Kings County, New York",
          "Los Angeles County, California",
          "Miami-Dade County, Florida",
          "Nassau County, New York",
          "New York County, New York",
          "Orange County, California",
          "Orange County, Florida",
          "Palm Beach County, Florida",
          "Queens County, New York",
          "Riverside County, California",
          "Sacramento County, California",
          "San Bernardino County, California",
          "San Diego County, California",
          "Santa Clara County, California",
          "Suffolk County, New York",
          "Tarrant County, Texas",
          "Travis County, Texas",
          "Westchester County, New York"
         ],
         "xaxis": "x",
         "y": [
          552777,
          747344,
          149417,
          839831,
          399524,
          1717708,
          1128574,
          394543,
          330459,
          1990510,
          608552,
          293228,
          265480,
          3745936,
          1041383,
          501003,
          68659,
          1325725,
          579427,
          537668,
          427291,
          860364,
          587410,
          819700,
          1306221,
          817073,
          645979,
          865576,
          564008,
          308168
         ],
         "yaxis": "y"
        },
        {
         "hovertemplate": "Variable=Commute by public transportation<br>County name=%{x}<br>Value=%{y}<extra></extra>",
         "legendgroup": "Commute by public transportation",
         "line": {
          "color": "#EF553B",
          "dash": "solid"
         },
         "marker": {
          "symbol": "circle"
         },
         "mode": "lines",
         "name": "Commute by public transportation",
         "orientation": "v",
         "showlegend": true,
         "type": "scatter",
         "x": [
          "Alameda County, California",
          "Bexar County, Texas",
          "Bronx County, New York",
          "Broward County, Florida",
          "Contra Costa County, California",
          "Cook County, Illinois",
          "Dallas County, Texas",
          "Erie County, New York",
          "Fresno County, California",
          "Harris County, Texas",
          "Hillsborough County, Florida",
          "Kern County, California",
          "Kings County, New York",
          "Los Angeles County, California",
          "Miami-Dade County, Florida",
          "Nassau County, New York",
          "New York County, New York",
          "Orange County, California",
          "Orange County, Florida",
          "Palm Beach County, Florida",
          "Queens County, New York",
          "Riverside County, California",
          "Sacramento County, California",
          "San Bernardino County, California",
          "San Diego County, California",
          "Santa Clara County, California",
          "Suffolk County, New York",
          "Tarrant County, Texas",
          "Travis County, Texas",
          "Westchester County, New York"
         ],
         "xaxis": "x",
         "y": [
          109855,
          21758,
          346240,
          25527,
          49863,
          453217,
          34410,
          16600,
          4770,
          58349,
          9396,
          2760,
          733657,
          307868,
          67251,
          109597,
          528413,
          31296,
          16793,
          11899,
          573952,
          12823,
          17156,
          13484,
          45855,
          42965,
          47169,
          5669,
          20421,
          106345
         ],
         "yaxis": "y"
        },
        {
         "hovertemplate": "Variable=Population<br>County name=%{x}<br>Value=%{y}<extra></extra>",
         "legendgroup": "Population",
         "line": {
          "color": "#00cc96",
          "dash": "solid"
         },
         "marker": {
          "symbol": "circle"
         },
         "mode": "lines",
         "name": "Population",
         "orientation": "v",
         "showlegend": true,
         "type": "scatter",
         "x": [
          "Alameda County, California",
          "Bexar County, Texas",
          "Bronx County, New York",
          "Broward County, Florida",
          "Contra Costa County, California",
          "Cook County, Illinois",
          "Dallas County, Texas",
          "Erie County, New York",
          "Fresno County, California",
          "Harris County, Texas",
          "Hillsborough County, Florida",
          "Kern County, California",
          "Kings County, New York",
          "Los Angeles County, California",
          "Miami-Dade County, Florida",
          "Nassau County, New York",
          "New York County, New York",
          "Orange County, California",
          "Orange County, Florida",
          "Palm Beach County, Florida",
          "Queens County, New York",
          "Riverside County, California",
          "Sacramento County, California",
          "San Bernardino County, California",
          "San Diego County, California",
          "Santa Clara County, California",
          "Suffolk County, New York",
          "Tarrant County, Texas",
          "Travis County, Texas",
          "Westchester County, New York"
         ],
         "xaxis": "x",
         "y": [
          1605217,
          1892004,
          1436785,
          1843152,
          1107925,
          5236393,
          2586552,
          921584,
          956749,
          4646630,
          1378883,
          878744,
          2635121,
          10038388,
          2664418,
          1356564,
          1629507,
          3155816,
          1229039,
          1398757,
          2287388,
          2355002,
          1465832,
          2106754,
          3302833,
          1885056,
          1483832,
          2049770,
          1203166,
          968890
         ],
         "yaxis": "y"
        },
        {
         "hovertemplate": "Variable=Work at home<br>County name=%{x}<br>Value=%{y}<extra></extra>",
         "legendgroup": "Work at home",
         "line": {
          "color": "#ab63fa",
          "dash": "solid"
         },
         "marker": {
          "symbol": "circle"
         },
         "mode": "lines",
         "name": "Work at home",
         "orientation": "v",
         "showlegend": true,
         "type": "scatter",
         "x": [
          "Alameda County, California",
          "Bexar County, Texas",
          "Bronx County, New York",
          "Broward County, Florida",
          "Contra Costa County, California",
          "Cook County, Illinois",
          "Dallas County, Texas",
          "Erie County, New York",
          "Fresno County, California",
          "Harris County, Texas",
          "Hillsborough County, Florida",
          "Kern County, California",
          "Kings County, New York",
          "Los Angeles County, California",
          "Miami-Dade County, Florida",
          "Nassau County, New York",
          "New York County, New York",
          "Orange County, California",
          "Orange County, Florida",
          "Palm Beach County, Florida",
          "Queens County, New York",
          "Riverside County, California",
          "Sacramento County, California",
          "San Bernardino County, California",
          "San Diego County, California",
          "Santa Clara County, California",
          "Suffolk County, New York",
          "Tarrant County, Texas",
          "Travis County, Texas",
          "Westchester County, New York"
         ],
         "xaxis": "x",
         "y": [
          43888,
          33128,
          17978,
          42524,
          28916,
          107374,
          47637,
          11048,
          16113,
          68314,
          33555,
          9697,
          44680,
          232386,
          51366,
          23611,
          58746,
          80810,
          31026,
          35984,
          26128,
          47751,
          31331,
          38141,
          107560,
          43033,
          25442,
          35742,
          43449,
          22619
         ],
         "yaxis": "y"
        },
        {
         "hovertemplate": "Variable=Workers<br>County name=%{x}<br>Value=%{y}<extra></extra>",
         "legendgroup": "Workers",
         "line": {
          "color": "#FFA15A",
          "dash": "solid"
         },
         "marker": {
          "symbol": "circle"
         },
         "mode": "lines",
         "name": "Workers",
         "orientation": "v",
         "showlegend": true,
         "type": "scatter",
         "x": [
          "Alameda County, California",
          "Bexar County, Texas",
          "Bronx County, New York",
          "Broward County, Florida",
          "Contra Costa County, California",
          "Cook County, Illinois",
          "Dallas County, Texas",
          "Erie County, New York",
          "Fresno County, California",
          "Harris County, Texas",
          "Hillsborough County, Florida",
          "Kern County, California",
          "Kings County, New York",
          "Los Angeles County, California",
          "Miami-Dade County, Florida",
          "Nassau County, New York",
          "New York County, New York",
          "Orange County, California",
          "Orange County, Florida",
          "Palm Beach County, Florida",
          "Queens County, New York",
          "Riverside County, California",
          "Sacramento County, California",
          "San Bernardino County, California",
          "San Diego County, California",
          "Santa Clara County, California",
          "Suffolk County, New York",
          "Tarrant County, Texas",
          "Travis County, Texas",
          "Westchester County, New York"
         ],
         "xaxis": "x",
         "y": [
          736979,
          850829,
          560324,
          931338,
          495757,
          2412753,
          1260913,
          438586,
          395689,
          2182197,
          605087,
          333091,
          1189261,
          4516714,
          1289937,
          671593,
          879881,
          1562046,
          650883,
          607430,
          1101747,
          923845,
          650426,
          816403,
          1603486,
          966853,
          721417,
          959562,
          635422,
          459790
         ],
         "yaxis": "y"
        }
       ],
       "layout": {
        "hovermode": "x unified",
        "legend": {
         "title": {
          "text": "Variable"
         },
         "tracegroupgap": 0
        },
        "template": {
         "data": {
          "bar": [
           {
            "error_x": {
             "color": "#2a3f5f"
            },
            "error_y": {
             "color": "#2a3f5f"
            },
            "marker": {
             "line": {
              "color": "#E5ECF6",
              "width": 0.5
             },
             "pattern": {
              "fillmode": "overlay",
              "size": 10,
              "solidity": 0.2
             }
            },
            "type": "bar"
           }
          ],
          "barpolar": [
           {
            "marker": {
             "line": {
              "color": "#E5ECF6",
              "width": 0.5
             },
             "pattern": {
              "fillmode": "overlay",
              "size": 10,
              "solidity": 0.2
             }
            },
            "type": "barpolar"
           }
          ],
          "carpet": [
           {
            "aaxis": {
             "endlinecolor": "#2a3f5f",
             "gridcolor": "white",
             "linecolor": "white",
             "minorgridcolor": "white",
             "startlinecolor": "#2a3f5f"
            },
            "baxis": {
             "endlinecolor": "#2a3f5f",
             "gridcolor": "white",
             "linecolor": "white",
             "minorgridcolor": "white",
             "startlinecolor": "#2a3f5f"
            },
            "type": "carpet"
           }
          ],
          "choropleth": [
           {
            "colorbar": {
             "outlinewidth": 0,
             "ticks": ""
            },
            "type": "choropleth"
           }
          ],
          "contour": [
           {
            "colorbar": {
             "outlinewidth": 0,
             "ticks": ""
            },
            "colorscale": [
             [
              0,
              "#0d0887"
             ],
             [
              0.1111111111111111,
              "#46039f"
             ],
             [
              0.2222222222222222,
              "#7201a8"
             ],
             [
              0.3333333333333333,
              "#9c179e"
             ],
             [
              0.4444444444444444,
              "#bd3786"
             ],
             [
              0.5555555555555556,
              "#d8576b"
             ],
             [
              0.6666666666666666,
              "#ed7953"
             ],
             [
              0.7777777777777778,
              "#fb9f3a"
             ],
             [
              0.8888888888888888,
              "#fdca26"
             ],
             [
              1,
              "#f0f921"
             ]
            ],
            "type": "contour"
           }
          ],
          "contourcarpet": [
           {
            "colorbar": {
             "outlinewidth": 0,
             "ticks": ""
            },
            "type": "contourcarpet"
           }
          ],
          "heatmap": [
           {
            "colorbar": {
             "outlinewidth": 0,
             "ticks": ""
            },
            "colorscale": [
             [
              0,
              "#0d0887"
             ],
             [
              0.1111111111111111,
              "#46039f"
             ],
             [
              0.2222222222222222,
              "#7201a8"
             ],
             [
              0.3333333333333333,
              "#9c179e"
             ],
             [
              0.4444444444444444,
              "#bd3786"
             ],
             [
              0.5555555555555556,
              "#d8576b"
             ],
             [
              0.6666666666666666,
              "#ed7953"
             ],
             [
              0.7777777777777778,
              "#fb9f3a"
             ],
             [
              0.8888888888888888,
              "#fdca26"
             ],
             [
              1,
              "#f0f921"
             ]
            ],
            "type": "heatmap"
           }
          ],
          "heatmapgl": [
           {
            "colorbar": {
             "outlinewidth": 0,
             "ticks": ""
            },
            "colorscale": [
             [
              0,
              "#0d0887"
             ],
             [
              0.1111111111111111,
              "#46039f"
             ],
             [
              0.2222222222222222,
              "#7201a8"
             ],
             [
              0.3333333333333333,
              "#9c179e"
             ],
             [
              0.4444444444444444,
              "#bd3786"
             ],
             [
              0.5555555555555556,
              "#d8576b"
             ],
             [
              0.6666666666666666,
              "#ed7953"
             ],
             [
              0.7777777777777778,
              "#fb9f3a"
             ],
             [
              0.8888888888888888,
              "#fdca26"
             ],
             [
              1,
              "#f0f921"
             ]
            ],
            "type": "heatmapgl"
           }
          ],
          "histogram": [
           {
            "marker": {
             "pattern": {
              "fillmode": "overlay",
              "size": 10,
              "solidity": 0.2
             }
            },
            "type": "histogram"
           }
          ],
          "histogram2d": [
           {
            "colorbar": {
             "outlinewidth": 0,
             "ticks": ""
            },
            "colorscale": [
             [
              0,
              "#0d0887"
             ],
             [
              0.1111111111111111,
              "#46039f"
             ],
             [
              0.2222222222222222,
              "#7201a8"
             ],
             [
              0.3333333333333333,
              "#9c179e"
             ],
             [
              0.4444444444444444,
              "#bd3786"
             ],
             [
              0.5555555555555556,
              "#d8576b"
             ],
             [
              0.6666666666666666,
              "#ed7953"
             ],
             [
              0.7777777777777778,
              "#fb9f3a"
             ],
             [
              0.8888888888888888,
              "#fdca26"
             ],
             [
              1,
              "#f0f921"
             ]
            ],
            "type": "histogram2d"
           }
          ],
          "histogram2dcontour": [
           {
            "colorbar": {
             "outlinewidth": 0,
             "ticks": ""
            },
            "colorscale": [
             [
              0,
              "#0d0887"
             ],
             [
              0.1111111111111111,
              "#46039f"
             ],
             [
              0.2222222222222222,
              "#7201a8"
             ],
             [
              0.3333333333333333,
              "#9c179e"
             ],
             [
              0.4444444444444444,
              "#bd3786"
             ],
             [
              0.5555555555555556,
              "#d8576b"
             ],
             [
              0.6666666666666666,
              "#ed7953"
             ],
             [
              0.7777777777777778,
              "#fb9f3a"
             ],
             [
              0.8888888888888888,
              "#fdca26"
             ],
             [
              1,
              "#f0f921"
             ]
            ],
            "type": "histogram2dcontour"
           }
          ],
          "mesh3d": [
           {
            "colorbar": {
             "outlinewidth": 0,
             "ticks": ""
            },
            "type": "mesh3d"
           }
          ],
          "parcoords": [
           {
            "line": {
             "colorbar": {
              "outlinewidth": 0,
              "ticks": ""
             }
            },
            "type": "parcoords"
           }
          ],
          "pie": [
           {
            "automargin": true,
            "type": "pie"
           }
          ],
          "scatter": [
           {
            "fillpattern": {
             "fillmode": "overlay",
             "size": 10,
             "solidity": 0.2
            },
            "type": "scatter"
           }
          ],
          "scatter3d": [
           {
            "line": {
             "colorbar": {
              "outlinewidth": 0,
              "ticks": ""
             }
            },
            "marker": {
             "colorbar": {
              "outlinewidth": 0,
              "ticks": ""
             }
            },
            "type": "scatter3d"
           }
          ],
          "scattercarpet": [
           {
            "marker": {
             "colorbar": {
              "outlinewidth": 0,
              "ticks": ""
             }
            },
            "type": "scattercarpet"
           }
          ],
          "scattergeo": [
           {
            "marker": {
             "colorbar": {
              "outlinewidth": 0,
              "ticks": ""
             }
            },
            "type": "scattergeo"
           }
          ],
          "scattergl": [
           {
            "marker": {
             "colorbar": {
              "outlinewidth": 0,
              "ticks": ""
             }
            },
            "type": "scattergl"
           }
          ],
          "scattermapbox": [
           {
            "marker": {
             "colorbar": {
              "outlinewidth": 0,
              "ticks": ""
             }
            },
            "type": "scattermapbox"
           }
          ],
          "scatterpolar": [
           {
            "marker": {
             "colorbar": {
              "outlinewidth": 0,
              "ticks": ""
             }
            },
            "type": "scatterpolar"
           }
          ],
          "scatterpolargl": [
           {
            "marker": {
             "colorbar": {
              "outlinewidth": 0,
              "ticks": ""
             }
            },
            "type": "scatterpolargl"
           }
          ],
          "scatterternary": [
           {
            "marker": {
             "colorbar": {
              "outlinewidth": 0,
              "ticks": ""
             }
            },
            "type": "scatterternary"
           }
          ],
          "surface": [
           {
            "colorbar": {
             "outlinewidth": 0,
             "ticks": ""
            },
            "colorscale": [
             [
              0,
              "#0d0887"
             ],
             [
              0.1111111111111111,
              "#46039f"
             ],
             [
              0.2222222222222222,
              "#7201a8"
             ],
             [
              0.3333333333333333,
              "#9c179e"
             ],
             [
              0.4444444444444444,
              "#bd3786"
             ],
             [
              0.5555555555555556,
              "#d8576b"
             ],
             [
              0.6666666666666666,
              "#ed7953"
             ],
             [
              0.7777777777777778,
              "#fb9f3a"
             ],
             [
              0.8888888888888888,
              "#fdca26"
             ],
             [
              1,
              "#f0f921"
             ]
            ],
            "type": "surface"
           }
          ],
          "table": [
           {
            "cells": {
             "fill": {
              "color": "#EBF0F8"
             },
             "line": {
              "color": "white"
             }
            },
            "header": {
             "fill": {
              "color": "#C8D4E3"
             },
             "line": {
              "color": "white"
             }
            },
            "type": "table"
           }
          ]
         },
         "layout": {
          "annotationdefaults": {
           "arrowcolor": "#2a3f5f",
           "arrowhead": 0,
           "arrowwidth": 1
          },
          "autotypenumbers": "strict",
          "coloraxis": {
           "colorbar": {
            "outlinewidth": 0,
            "ticks": ""
           }
          },
          "colorscale": {
           "diverging": [
            [
             0,
             "#8e0152"
            ],
            [
             0.1,
             "#c51b7d"
            ],
            [
             0.2,
             "#de77ae"
            ],
            [
             0.3,
             "#f1b6da"
            ],
            [
             0.4,
             "#fde0ef"
            ],
            [
             0.5,
             "#f7f7f7"
            ],
            [
             0.6,
             "#e6f5d0"
            ],
            [
             0.7,
             "#b8e186"
            ],
            [
             0.8,
             "#7fbc41"
            ],
            [
             0.9,
             "#4d9221"
            ],
            [
             1,
             "#276419"
            ]
           ],
           "sequential": [
            [
             0,
             "#0d0887"
            ],
            [
             0.1111111111111111,
             "#46039f"
            ],
            [
             0.2222222222222222,
             "#7201a8"
            ],
            [
             0.3333333333333333,
             "#9c179e"
            ],
            [
             0.4444444444444444,
             "#bd3786"
            ],
            [
             0.5555555555555556,
             "#d8576b"
            ],
            [
             0.6666666666666666,
             "#ed7953"
            ],
            [
             0.7777777777777778,
             "#fb9f3a"
            ],
            [
             0.8888888888888888,
             "#fdca26"
            ],
            [
             1,
             "#f0f921"
            ]
           ],
           "sequentialminus": [
            [
             0,
             "#0d0887"
            ],
            [
             0.1111111111111111,
             "#46039f"
            ],
            [
             0.2222222222222222,
             "#7201a8"
            ],
            [
             0.3333333333333333,
             "#9c179e"
            ],
            [
             0.4444444444444444,
             "#bd3786"
            ],
            [
             0.5555555555555556,
             "#d8576b"
            ],
            [
             0.6666666666666666,
             "#ed7953"
            ],
            [
             0.7777777777777778,
             "#fb9f3a"
            ],
            [
             0.8888888888888888,
             "#fdca26"
            ],
            [
             1,
             "#f0f921"
            ]
           ]
          },
          "colorway": [
           "#636efa",
           "#EF553B",
           "#00cc96",
           "#ab63fa",
           "#FFA15A",
           "#19d3f3",
           "#FF6692",
           "#B6E880",
           "#FF97FF",
           "#FECB52"
          ],
          "font": {
           "color": "#2a3f5f"
          },
          "geo": {
           "bgcolor": "white",
           "lakecolor": "white",
           "landcolor": "#E5ECF6",
           "showlakes": true,
           "showland": true,
           "subunitcolor": "white"
          },
          "hoverlabel": {
           "align": "left"
          },
          "hovermode": "closest",
          "mapbox": {
           "style": "light"
          },
          "paper_bgcolor": "white",
          "plot_bgcolor": "#E5ECF6",
          "polar": {
           "angularaxis": {
            "gridcolor": "white",
            "linecolor": "white",
            "ticks": ""
           },
           "bgcolor": "#E5ECF6",
           "radialaxis": {
            "gridcolor": "white",
            "linecolor": "white",
            "ticks": ""
           }
          },
          "scene": {
           "xaxis": {
            "backgroundcolor": "#E5ECF6",
            "gridcolor": "white",
            "gridwidth": 2,
            "linecolor": "white",
            "showbackground": true,
            "ticks": "",
            "zerolinecolor": "white"
           },
           "yaxis": {
            "backgroundcolor": "#E5ECF6",
            "gridcolor": "white",
            "gridwidth": 2,
            "linecolor": "white",
            "showbackground": true,
            "ticks": "",
            "zerolinecolor": "white"
           },
           "zaxis": {
            "backgroundcolor": "#E5ECF6",
            "gridcolor": "white",
            "gridwidth": 2,
            "linecolor": "white",
            "showbackground": true,
            "ticks": "",
            "zerolinecolor": "white"
           }
          },
          "shapedefaults": {
           "line": {
            "color": "#2a3f5f"
           }
          },
          "ternary": {
           "aaxis": {
            "gridcolor": "white",
            "linecolor": "white",
            "ticks": ""
           },
           "baxis": {
            "gridcolor": "white",
            "linecolor": "white",
            "ticks": ""
           },
           "bgcolor": "#E5ECF6",
           "caxis": {
            "gridcolor": "white",
            "linecolor": "white",
            "ticks": ""
           }
          },
          "title": {
           "x": 0.05
          },
          "xaxis": {
           "automargin": true,
           "gridcolor": "white",
           "linecolor": "white",
           "ticks": "",
           "title": {
            "standoff": 15
           },
           "zerolinecolor": "white",
           "zerolinewidth": 2
          },
          "yaxis": {
           "automargin": true,
           "gridcolor": "white",
           "linecolor": "white",
           "ticks": "",
           "title": {
            "standoff": 15
           },
           "zerolinecolor": "white",
           "zerolinewidth": 2
          }
         }
        },
        "title": {
         "text": "Comparison of 3 Commuting methods vs Population by Counties"
        },
        "xaxis": {
         "anchor": "y",
         "domain": [
          0,
          1
         ],
         "tickangle": -90,
         "title": {
          "text": "County name"
         }
        },
        "yaxis": {
         "anchor": "x",
         "domain": [
          0,
          1
         ],
         "title": {
          "text": "Value"
         }
        }
       }
      }
     },
     "metadata": {},
     "output_type": "display_data"
    }
   ],
   "source": [
    "pivoted_df = population_vs_commute.pivot_table(index='County', columns='Variable', values='Value', aggfunc='first')\n",
    "long_df = pivoted_df.reset_index().melt(id_vars='County', var_name='Variable', value_name='Value')\n",
    "\n",
    "fig = px.line(\n",
    "    long_df,\n",
    "    x='County',\n",
    "    y='Value',\n",
    "    color='Variable',  \n",
    "    title='Comparison of 3 Commuting methods vs Population by Counties',\n",
    "    labels={'Value': 'Value', 'County': 'County name'}\n",
    ")\n",
    "\n",
    "fig.update_layout(\n",
    "    hovermode='x unified',  \n",
    "    xaxis={'tickangle': -90},  \n",
    "    xaxis_title='County name',\n",
    "    yaxis_title='Value'\n",
    ")\n",
    "\n",
    "fig.show()"
   ]
  }
 ],
 "metadata": {
  "kernelspec": {
   "display_name": "base",
   "language": "python",
   "name": "python3"
  },
  "language_info": {
   "codemirror_mode": {
    "name": "ipython",
    "version": 3
   },
   "file_extension": ".py",
   "mimetype": "text/x-python",
   "name": "python",
   "nbconvert_exporter": "python",
   "pygments_lexer": "ipython3",
   "version": "3.10.13"
  }
 },
 "nbformat": 4,
 "nbformat_minor": 2
}
