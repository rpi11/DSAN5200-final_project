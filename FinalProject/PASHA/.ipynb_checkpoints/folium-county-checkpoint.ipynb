{
 "cells": [
  {
   "cell_type": "code",
   "execution_count": 1,
   "id": "initial_id",
   "metadata": {
    "ExecuteTime": {
     "end_time": "2024-04-29T13:38:47.926540Z",
     "start_time": "2024-04-29T13:38:47.536073Z"
    }
   },
   "outputs": [],
   "source": [
    "import pandas as pd\n",
    "import folium\n",
    "from folium.features import GeoJsonTooltip\n",
    "import requests"
   ]
  },
  {
   "cell_type": "code",
   "execution_count": 2,
   "id": "150cf03508efcf1b",
   "metadata": {
    "collapsed": false,
    "ExecuteTime": {
     "end_time": "2024-04-29T13:38:48.724400Z",
     "start_time": "2024-04-29T13:38:47.928140Z"
    }
   },
   "outputs": [],
   "source": [
    "# Path to your CSV file\n",
    "csv_file_path = '../data/data.csv'\n",
    "variable_options = [\n",
    "    'Total bridges',\n",
    "    'Bridges, poor',\n",
    "    'Bridges, fair',\n",
    "    'Bridges, good',\n",
    "    'Bridge area (square meters)',\n",
    "    'Bridge area, poor (square meters)',\n",
    "    'Bridge area, fair (square meters)',\n",
    "    'Bridge area, good (square meters)'\n",
    "]\n",
    "\n",
    "df = pd.read_csv(csv_file_path)\n",
    "# df.columns"
   ]
  },
  {
   "cell_type": "code",
   "execution_count": 3,
   "id": "1d1ba0e8b0621fd9",
   "metadata": {
    "collapsed": false,
    "ExecuteTime": {
     "end_time": "2024-04-29T13:38:48.885415Z",
     "start_time": "2024-04-29T13:38:48.743451Z"
    }
   },
   "outputs": [],
   "source": [
    "# Mapping for renaming and scaling\n",
    "name_scale_mapping = {\n",
    "    'Total bridges': {\n",
    "        'new_name': 'Total Bridges (100)',\n",
    "        'scale': 100\n",
    "    },\n",
    "    'Bridges, poor': {\n",
    "        'new_name': 'Total Poor Bridges (100)',\n",
    "        'scale': 100\n",
    "    },\n",
    "    'Bridges, fair': {\n",
    "        'new_name': 'Total Fair Bridges (100)',\n",
    "        'scale': 100\n",
    "    },\n",
    "    'Bridges, good': {\n",
    "        'new_name': 'Total Good Bridges (100)',\n",
    "        'scale': 100\n",
    "    },\n",
    "    'Bridge area (square meters)': {\n",
    "        'new_name': 'Total Bridge Area (10k m²)',\n",
    "        'scale': 10000\n",
    "    },\n",
    "    'Bridge area, poor (square meters)': {\n",
    "        'new_name': 'Total Poor Bridge Area (10k m²)',\n",
    "        'scale': 100000\n",
    "    },\n",
    "    'Bridge area, fair (square meters)': {\n",
    "        'new_name': 'Total Fair Bridge Area (10k m²)',\n",
    "        'scale': 100000\n",
    "    },\n",
    "    'Bridge area, good (square meters)': {\n",
    "        'new_name': 'Total Good Bridge Area (10k m²)',\n",
    "        'scale': 100000\n",
    "    },\n",
    "}\n",
    "\n",
    "# Apply renaming and scaling based on the mapping\n",
    "for original_name, props in name_scale_mapping.items():\n",
    "    updated_rows = df['Variable'] == original_name  # Capture the rows to update\n",
    "    df.loc[updated_rows, 'Variable'] = props['new_name']\n",
    "    df.loc[updated_rows, 'Value'] /= props['scale']  # Apply scaling only to the updated rows\n",
    "\n",
    "variable_options = [props['new_name'] for props in name_scale_mapping.values()]\n",
    "\n",
    "# Define color scheme for each category\n",
    "color_scheme = {\n",
    "    'Total': 'Blues',\n",
    "    'Poor': 'Reds',\n",
    "    'Fair': 'Oranges',\n",
    "    'Good': 'Greens'\n",
    "}"
   ]
  },
  {
   "cell_type": "code",
   "execution_count": 4,
   "id": "f64703144276e92c",
   "metadata": {
    "collapsed": false,
    "ExecuteTime": {
     "end_time": "2024-04-29T13:38:49.002262Z",
     "start_time": "2024-04-29T13:38:48.886401Z"
    }
   },
   "outputs": [],
   "source": [
    "folium_counties_url = \"https://raw.githubusercontent.com/python-visualization/folium/main/tests/us-counties.json\"\n",
    "us_counties = requests.get(folium_counties_url).json()\n",
    "\n",
    "# Define state FIPS codes to drop (Hawaii, Alaska, DC)\n",
    "fips_to_drop = ['02', '15', '11']  # FIPS codes for AK, HI, DC respectively\n",
    "\n",
    "# Filter out counties based on their state FIPS code\n",
    "us_counties['features'] = [\n",
    "    feature for feature in us_counties['features'] \n",
    "    if feature['id'].zfill(5)[:2] not in fips_to_drop  # Ensure IDs are 5 digits for uniform comparison\n",
    "]"
   ]
  },
  {
   "cell_type": "code",
   "execution_count": 5,
   "id": "e7f83b9f35308848",
   "metadata": {
    "collapsed": false,
    "ExecuteTime": {
     "end_time": "2024-04-29T13:38:49.010423Z",
     "start_time": "2024-04-29T13:38:49.003693Z"
    }
   },
   "outputs": [
    {
     "data": {
      "text/plain": "<folium.raster_layers.TileLayer at 0x147bf7610>"
     },
     "execution_count": 5,
     "metadata": {},
     "output_type": "execute_result"
    }
   ],
   "source": [
    "# Create a folium Map object, centered on the US, *without* a tile layer yet\n",
    "m = folium.Map(\n",
    "    [43, -100],\n",
    "    zoom_start=4,\n",
    "    tiles=None\n",
    ")\n",
    "# # Add the TileLayer to m *separately*, with control=False so that users\n",
    "# # are not able remove the layer by unchecking a checkbox\n",
    "folium.TileLayer('CartoDB positron',name=\"Light Map\",control=False).add_to(m)"
   ]
  },
  {
   "cell_type": "code",
   "execution_count": 6,
   "id": "bea08c2e7994d4ad",
   "metadata": {
    "collapsed": false,
    "ExecuteTime": {
     "end_time": "2024-04-29T13:38:49.184714Z",
     "start_time": "2024-04-29T13:38:49.027064Z"
    }
   },
   "outputs": [],
   "source": [
    "# Loop through each variable option to create separate choropleth layers\n",
    "for variable in variable_options:\n",
    "    subset_df = df[df['Variable'] == variable]\n",
    "    legend_label = variable.replace('_', ' ').title()\n",
    "    if 'Poor' in variable:\n",
    "        color = color_scheme['Poor']\n",
    "    elif 'Fair' in variable:\n",
    "        color = color_scheme['Fair']\n",
    "    elif 'Good' in variable:\n",
    "        color = color_scheme['Good']\n",
    "    else:  # Default to 'Total' for any other cases, typically 'Total'\n",
    "        color = color_scheme['Total']\n",
    "\n",
    "    choro = folium.Choropleth(\n",
    "        geo_data=us_counties,\n",
    "        name=variable,\n",
    "        data=subset_df,\n",
    "        columns=['GEOID', 'Value'],  # Changed from ['State', 'Value']\n",
    "        key_on='feature.id',  # Ensure this matches your county GeoJSON\n",
    "        fill_color=color,\n",
    "        fill_opacity=0.7,\n",
    "        line_opacity=0.2,\n",
    "        legend_name=legend_label,\n",
    "        highlight=True,\n",
    "        show=(variable == 'Total Bridges (100)'),\n",
    "        overlay=False\n",
    "    ).add_to(m)\n",
    "\n",
    "    # Add tooltips to each layer\n",
    "    tooltip = GeoJsonTooltip(\n",
    "        fields=['name'],\n",
    "        aliases=['County:'],\n",
    "        localize=True,\n",
    "        sticky=False,\n",
    "        labels=True,\n",
    "        style=\"\"\"\n",
    "            background-color: #F0EFEF;\n",
    "            border: 2px solid black;\n",
    "            border-radius: 3px;\n",
    "            box-shadow: 3px;\n",
    "        \"\"\",\n",
    "        max_width=800,\n",
    "    )\n",
    "    choro.geojson.add_child(tooltip)"
   ]
  },
  {
   "cell_type": "code",
   "execution_count": 7,
   "id": "4114d436dec593c9",
   "metadata": {
    "collapsed": false,
    "ExecuteTime": {
     "end_time": "2024-04-29T13:38:49.187930Z",
     "start_time": "2024-04-29T13:38:49.185146Z"
    }
   },
   "outputs": [
    {
     "data": {
      "text/plain": "<folium.map.LayerControl at 0x147bfde50>"
     },
     "execution_count": 7,
     "metadata": {},
     "output_type": "execute_result"
    }
   ],
   "source": [
    "folium.LayerControl(collapsed=False).add_to(m)"
   ]
  },
  {
   "cell_type": "code",
   "execution_count": null,
   "id": "c8f10a6e206405b3",
   "metadata": {
    "collapsed": false,
    "is_executing": true,
    "ExecuteTime": {
     "start_time": "2024-04-29T13:38:49.188798Z"
    }
   },
   "outputs": [],
   "source": [
    "m"
   ]
  }
 ],
 "metadata": {
  "kernelspec": {
   "display_name": "Python 3 (ipykernel)",
   "language": "python",
   "name": "python3"
  },
  "language_info": {
   "codemirror_mode": {
    "name": "ipython",
    "version": 3
   },
   "file_extension": ".py",
   "mimetype": "text/x-python",
   "name": "python",
   "nbconvert_exporter": "python",
   "pygments_lexer": "ipython3",
   "version": "3.11.7"
  }
 },
 "nbformat": 4,
 "nbformat_minor": 5
}
