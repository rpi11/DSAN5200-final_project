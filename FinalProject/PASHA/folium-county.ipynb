{
 "cells": [
  {
   "cell_type": "code",
   "execution_count": 1,
   "id": "initial_id",
   "metadata": {
    "ExecuteTime": {
     "end_time": "2024-04-27T23:24:18.405460Z",
     "start_time": "2024-04-27T23:24:18.082118Z"
    }
   },
   "outputs": [],
   "source": [
    "import pandas as pd\n",
    "import folium\n",
    "from folium.features import GeoJsonTooltip\n",
    "import requests"
   ]
  },
  {
   "cell_type": "code",
   "execution_count": 2,
   "id": "150cf03508efcf1b",
   "metadata": {
    "collapsed": false,
    "ExecuteTime": {
     "end_time": "2024-04-27T23:24:18.957821Z",
     "start_time": "2024-04-27T23:24:18.405606Z"
    }
   },
   "outputs": [
    {
     "data": {
      "text/plain": "Index(['Level', 'Category', 'Variable', 'County', 'Date', 'GEOID',\n       'State FIPS', 'State', 'Value', 'Denominator',\n       'Denominator Description', 'Row-ID', 'Latitude', 'Longitude',\n       'Location', 'Year'],\n      dtype='object')"
     },
     "execution_count": 2,
     "metadata": {},
     "output_type": "execute_result"
    }
   ],
   "source": [
    "# Path to your CSV file\n",
    "csv_file_path = '../data/data.csv'\n",
    "variable_options = [\n",
    "    'Total bridges',\n",
    "    'Bridges, poor',\n",
    "    'Bridges, fair',\n",
    "    'Bridges, good',\n",
    "    'Bridge area (square meters)',\n",
    "    'Bridge area, poor (square meters)',\n",
    "    'Bridge area, fair (square meters)',\n",
    "    'Bridge area, good (square meters)'\n",
    "]\n",
    "\n",
    "df = pd.read_csv(csv_file_path)\n",
    "df.columns"
   ]
  },
  {
   "cell_type": "code",
   "execution_count": 3,
   "id": "1d1ba0e8b0621fd9",
   "metadata": {
    "collapsed": false,
    "ExecuteTime": {
     "end_time": "2024-04-27T23:24:19.069121Z",
     "start_time": "2024-04-27T23:24:18.969767Z"
    }
   },
   "outputs": [],
   "source": [
    "# Mapping for renaming and scaling\n",
    "name_scale_mapping = {\n",
    "    'Total bridges': {\n",
    "        'new_name': 'Total Bridges (100)',\n",
    "        'scale': 100\n",
    "    },\n",
    "    'Bridges, poor': {\n",
    "        'new_name': 'Total Poor Bridges (100)',\n",
    "        'scale': 100\n",
    "    },\n",
    "    'Bridges, fair': {\n",
    "        'new_name': 'Total Fair Bridges (100)',\n",
    "        'scale': 100\n",
    "    },\n",
    "    'Bridges, good': {\n",
    "        'new_name': 'Total Good Bridges (100)',\n",
    "        'scale': 100\n",
    "    },\n",
    "    'Bridge area (square meters)': {\n",
    "        'new_name': 'Total Bridge Area (10k m²)',\n",
    "        'scale': 10000\n",
    "    },\n",
    "    'Bridge area, poor (square meters)': {\n",
    "        'new_name': 'Total Poor Bridge Area (10k m²)',\n",
    "        'scale': 100000\n",
    "    },\n",
    "    'Bridge area, fair (square meters)': {\n",
    "        'new_name': 'Total Fair Bridge Area (10k m²)',\n",
    "        'scale': 100000\n",
    "    },\n",
    "    'Bridge area, good (square meters)': {\n",
    "        'new_name': 'Total Good Bridge Area (10k m²)',\n",
    "        'scale': 100000\n",
    "    },\n",
    "}\n",
    "\n",
    "# Apply renaming and scaling based on the mapping\n",
    "for original_name, props in name_scale_mapping.items():\n",
    "    updated_rows = df['Variable'] == original_name  # Capture the rows to update\n",
    "    df.loc[updated_rows, 'Variable'] = props['new_name']\n",
    "    df.loc[updated_rows, 'Value'] /= props['scale']  # Apply scaling only to the updated rows\n",
    "\n",
    "variable_options = [props['new_name'] for props in name_scale_mapping.values()]\n",
    "\n",
    "# Define color scheme for each category\n",
    "color_scheme = {\n",
    "    'Total': 'Blues',\n",
    "    'Poor': 'Reds',\n",
    "    'Fair': 'Oranges',\n",
    "    'Good': 'Greens'\n",
    "}"
   ]
  },
  {
   "cell_type": "code",
   "execution_count": 4,
   "id": "f64703144276e92c",
   "metadata": {
    "collapsed": false,
    "ExecuteTime": {
     "end_time": "2024-04-27T23:24:19.170533Z",
     "start_time": "2024-04-27T23:24:19.069707Z"
    }
   },
   "outputs": [],
   "source": [
    "folium_counties_url = \"https://raw.githubusercontent.com/python-visualization/folium/main/tests/us-counties.json\"\n",
    "us_counties = requests.get(folium_counties_url).json()\n",
    "\n",
    "# Define state FIPS codes to drop (Hawaii, Alaska, DC)\n",
    "fips_to_drop = ['02', '15', '11']  # FIPS codes for AK, HI, DC respectively\n",
    "\n",
    "# Filter out counties based on their state FIPS code\n",
    "us_counties['features'] = [\n",
    "    feature for feature in us_counties['features'] \n",
    "    if feature['id'].zfill(5)[:2] not in fips_to_drop  # Ensure IDs are 5 digits for uniform comparison\n",
    "]"
   ]
  },
  {
   "cell_type": "code",
   "execution_count": 5,
   "id": "e7f83b9f35308848",
   "metadata": {
    "collapsed": false,
    "ExecuteTime": {
     "end_time": "2024-04-27T23:24:19.176679Z",
     "start_time": "2024-04-27T23:24:19.173618Z"
    }
   },
   "outputs": [
    {
     "data": {
      "text/plain": "<folium.raster_layers.TileLayer at 0x11fff7550>"
     },
     "execution_count": 5,
     "metadata": {},
     "output_type": "execute_result"
    }
   ],
   "source": [
    "# Create a folium Map object, centered on the US, *without* a tile layer yet\n",
    "m = folium.Map(\n",
    "    [43, -100],\n",
    "    zoom_start=4,\n",
    "    tiles=None\n",
    ")\n",
    "# # Add the TileLayer to m *separately*, with control=False so that users\n",
    "# # are not able remove the layer by unchecking a checkbox\n",
    "folium.TileLayer('CartoDB positron',name=\"Light Map\",control=False).add_to(m)"
   ]
  },
  {
   "cell_type": "code",
   "execution_count": 6,
   "id": "bea08c2e7994d4ad",
   "metadata": {
    "collapsed": false,
    "ExecuteTime": {
     "end_time": "2024-04-27T23:24:19.299447Z",
     "start_time": "2024-04-27T23:24:19.187978Z"
    }
   },
   "outputs": [],
   "source": [
    "# Loop through each variable option to create separate choropleth layers\n",
    "for variable in variable_options:\n",
    "    subset_df = df[df['Variable'] == variable]\n",
    "    legend_label = variable.replace('_', ' ').title()\n",
    "    if 'Poor' in variable:\n",
    "        color = color_scheme['Poor']\n",
    "    elif 'Fair' in variable:\n",
    "        color = color_scheme['Fair']\n",
    "    elif 'Good' in variable:\n",
    "        color = color_scheme['Good']\n",
    "    else:  # Default to 'Total' for any other cases, typically 'Total'\n",
    "        color = color_scheme['Total']\n",
    "\n",
    "    choro = folium.Choropleth(\n",
    "        geo_data=us_counties,\n",
    "        name=variable,\n",
    "        data=subset_df,\n",
    "        columns=['GEOID', 'Value'],  # Changed from ['State', 'Value']\n",
    "        key_on='feature.id',  # Ensure this matches your county GeoJSON\n",
    "        fill_color=color,\n",
    "        fill_opacity=0.7,\n",
    "        line_opacity=0.2,\n",
    "        legend_name=legend_label,\n",
    "        highlight=True,\n",
    "        show=(variable == 'Total Bridges (100)'),\n",
    "        overlay=False\n",
    "    ).add_to(m)\n",
    "\n",
    "    # Add tooltips to each layer\n",
    "    tooltip = GeoJsonTooltip(\n",
    "        fields=['name'],\n",
    "        aliases=['County:'],\n",
    "        localize=True,\n",
    "        sticky=False,\n",
    "        labels=True,\n",
    "        style=\"\"\"\n",
    "            background-color: #F0EFEF;\n",
    "            border: 2px solid black;\n",
    "            border-radius: 3px;\n",
    "            box-shadow: 3px;\n",
    "        \"\"\",\n",
    "        max_width=800,\n",
    "    )\n",
    "    choro.geojson.add_child(tooltip)"
   ]
  },
  {
   "cell_type": "code",
   "execution_count": 7,
   "id": "4114d436dec593c9",
   "metadata": {
    "collapsed": false,
    "ExecuteTime": {
     "end_time": "2024-04-27T23:24:19.301936Z",
     "start_time": "2024-04-27T23:24:19.299827Z"
    }
   },
   "outputs": [
    {
     "data": {
      "text/plain": "<folium.map.LayerControl at 0x11fff7e10>"
     },
     "execution_count": 7,
     "metadata": {},
     "output_type": "execute_result"
    }
   ],
   "source": [
    "folium.LayerControl(collapsed=False).add_to(m)"
   ]
  },
  {
   "cell_type": "code",
   "execution_count": 8,
   "id": "c8f10a6e206405b3",
   "metadata": {
    "collapsed": false,
    "ExecuteTime": {
     "end_time": "2024-04-27T23:24:19.566174Z",
     "start_time": "2024-04-27T23:24:19.304982Z"
    }
   },
   "outputs": [
    {
     "ename": "AssertionError",
     "evalue": "The field Value is not available in the data. Choose from: ('name',).",
     "output_type": "error",
     "traceback": [
      "\u001B[0;31m---------------------------------------------------------------------------\u001B[0m",
      "\u001B[0;31mAssertionError\u001B[0m                            Traceback (most recent call last)",
      "File \u001B[0;32m~/Dropbox/school/georgetown/3-spring-2024/DSAN-5200-Advanced Data Visualization/repos/DSAN5200-final_project/venv/lib/python3.11/site-packages/IPython/core/formatters.py:347\u001B[0m, in \u001B[0;36mBaseFormatter.__call__\u001B[0;34m(self, obj)\u001B[0m\n\u001B[1;32m    345\u001B[0m     method \u001B[38;5;241m=\u001B[39m get_real_method(obj, \u001B[38;5;28mself\u001B[39m\u001B[38;5;241m.\u001B[39mprint_method)\n\u001B[1;32m    346\u001B[0m     \u001B[38;5;28;01mif\u001B[39;00m method \u001B[38;5;129;01mis\u001B[39;00m \u001B[38;5;129;01mnot\u001B[39;00m \u001B[38;5;28;01mNone\u001B[39;00m:\n\u001B[0;32m--> 347\u001B[0m         \u001B[38;5;28;01mreturn\u001B[39;00m \u001B[43mmethod\u001B[49m\u001B[43m(\u001B[49m\u001B[43m)\u001B[49m\n\u001B[1;32m    348\u001B[0m     \u001B[38;5;28;01mreturn\u001B[39;00m \u001B[38;5;28;01mNone\u001B[39;00m\n\u001B[1;32m    349\u001B[0m \u001B[38;5;28;01melse\u001B[39;00m:\n",
      "File \u001B[0;32m~/Dropbox/school/georgetown/3-spring-2024/DSAN-5200-Advanced Data Visualization/repos/DSAN5200-final_project/venv/lib/python3.11/site-packages/folium/folium.py:321\u001B[0m, in \u001B[0;36mMap._repr_html_\u001B[0;34m(self, **kwargs)\u001B[0m\n\u001B[1;32m    319\u001B[0m     \u001B[38;5;28mself\u001B[39m\u001B[38;5;241m.\u001B[39m_parent \u001B[38;5;241m=\u001B[39m \u001B[38;5;28;01mNone\u001B[39;00m\n\u001B[1;32m    320\u001B[0m \u001B[38;5;28;01melse\u001B[39;00m:\n\u001B[0;32m--> 321\u001B[0m     out \u001B[38;5;241m=\u001B[39m \u001B[38;5;28;43mself\u001B[39;49m\u001B[38;5;241;43m.\u001B[39;49m\u001B[43m_parent\u001B[49m\u001B[38;5;241;43m.\u001B[39;49m\u001B[43m_repr_html_\u001B[49m\u001B[43m(\u001B[49m\u001B[38;5;241;43m*\u001B[39;49m\u001B[38;5;241;43m*\u001B[39;49m\u001B[43mkwargs\u001B[49m\u001B[43m)\u001B[49m\n\u001B[1;32m    322\u001B[0m \u001B[38;5;28;01mreturn\u001B[39;00m out\n",
      "File \u001B[0;32m~/Dropbox/school/georgetown/3-spring-2024/DSAN-5200-Advanced Data Visualization/repos/DSAN5200-final_project/venv/lib/python3.11/site-packages/branca/element.py:369\u001B[0m, in \u001B[0;36mFigure._repr_html_\u001B[0;34m(self, **kwargs)\u001B[0m\n\u001B[1;32m    367\u001B[0m \u001B[38;5;28;01mdef\u001B[39;00m \u001B[38;5;21m_repr_html_\u001B[39m(\u001B[38;5;28mself\u001B[39m, \u001B[38;5;241m*\u001B[39m\u001B[38;5;241m*\u001B[39mkwargs):\n\u001B[1;32m    368\u001B[0m \u001B[38;5;250m    \u001B[39m\u001B[38;5;124;03m\"\"\"Displays the Figure in a Jupyter notebook.\"\"\"\u001B[39;00m\n\u001B[0;32m--> 369\u001B[0m     html \u001B[38;5;241m=\u001B[39m escape(\u001B[38;5;28;43mself\u001B[39;49m\u001B[38;5;241;43m.\u001B[39;49m\u001B[43mrender\u001B[49m\u001B[43m(\u001B[49m\u001B[38;5;241;43m*\u001B[39;49m\u001B[38;5;241;43m*\u001B[39;49m\u001B[43mkwargs\u001B[49m\u001B[43m)\u001B[49m)\n\u001B[1;32m    370\u001B[0m     \u001B[38;5;28;01mif\u001B[39;00m \u001B[38;5;28mself\u001B[39m\u001B[38;5;241m.\u001B[39mheight \u001B[38;5;129;01mis\u001B[39;00m \u001B[38;5;28;01mNone\u001B[39;00m:\n\u001B[1;32m    371\u001B[0m         iframe \u001B[38;5;241m=\u001B[39m (\n\u001B[1;32m    372\u001B[0m             \u001B[38;5;124m'\u001B[39m\u001B[38;5;124m<div style=\u001B[39m\u001B[38;5;124m\"\u001B[39m\u001B[38;5;124mwidth:\u001B[39m\u001B[38;5;132;01m{width}\u001B[39;00m\u001B[38;5;124m;\u001B[39m\u001B[38;5;124m\"\u001B[39m\u001B[38;5;124m>\u001B[39m\u001B[38;5;124m'\u001B[39m\n\u001B[1;32m    373\u001B[0m             \u001B[38;5;124m'\u001B[39m\u001B[38;5;124m<div style=\u001B[39m\u001B[38;5;124m\"\u001B[39m\u001B[38;5;124mposition:relative;width:100\u001B[39m\u001B[38;5;124m%\u001B[39m\u001B[38;5;124m;height:0;padding-bottom:\u001B[39m\u001B[38;5;132;01m{ratio}\u001B[39;00m\u001B[38;5;124m;\u001B[39m\u001B[38;5;124m\"\u001B[39m\u001B[38;5;124m>\u001B[39m\u001B[38;5;124m'\u001B[39m  \u001B[38;5;66;03m# noqa\u001B[39;00m\n\u001B[0;32m   (...)\u001B[0m\n\u001B[1;32m    379\u001B[0m             \u001B[38;5;124m\"\u001B[39m\u001B[38;5;124m</div></div>\u001B[39m\u001B[38;5;124m\"\u001B[39m\n\u001B[1;32m    380\u001B[0m         )\u001B[38;5;241m.\u001B[39mformat(html\u001B[38;5;241m=\u001B[39mhtml, width\u001B[38;5;241m=\u001B[39m\u001B[38;5;28mself\u001B[39m\u001B[38;5;241m.\u001B[39mwidth, ratio\u001B[38;5;241m=\u001B[39m\u001B[38;5;28mself\u001B[39m\u001B[38;5;241m.\u001B[39mratio)\n",
      "File \u001B[0;32m~/Dropbox/school/georgetown/3-spring-2024/DSAN-5200-Advanced Data Visualization/repos/DSAN5200-final_project/venv/lib/python3.11/site-packages/branca/element.py:364\u001B[0m, in \u001B[0;36mFigure.render\u001B[0;34m(self, **kwargs)\u001B[0m\n\u001B[1;32m    362\u001B[0m \u001B[38;5;250m\u001B[39m\u001B[38;5;124;03m\"\"\"Renders the HTML representation of the element.\"\"\"\u001B[39;00m\n\u001B[1;32m    363\u001B[0m \u001B[38;5;28;01mfor\u001B[39;00m name, child \u001B[38;5;129;01min\u001B[39;00m \u001B[38;5;28mself\u001B[39m\u001B[38;5;241m.\u001B[39m_children\u001B[38;5;241m.\u001B[39mitems():\n\u001B[0;32m--> 364\u001B[0m     \u001B[43mchild\u001B[49m\u001B[38;5;241;43m.\u001B[39;49m\u001B[43mrender\u001B[49m\u001B[43m(\u001B[49m\u001B[38;5;241;43m*\u001B[39;49m\u001B[38;5;241;43m*\u001B[39;49m\u001B[43mkwargs\u001B[49m\u001B[43m)\u001B[49m\n\u001B[1;32m    365\u001B[0m \u001B[38;5;28;01mreturn\u001B[39;00m \u001B[38;5;28mself\u001B[39m\u001B[38;5;241m.\u001B[39m_template\u001B[38;5;241m.\u001B[39mrender(this\u001B[38;5;241m=\u001B[39m\u001B[38;5;28mself\u001B[39m, kwargs\u001B[38;5;241m=\u001B[39mkwargs)\n",
      "File \u001B[0;32m~/Dropbox/school/georgetown/3-spring-2024/DSAN-5200-Advanced Data Visualization/repos/DSAN5200-final_project/venv/lib/python3.11/site-packages/folium/folium.py:403\u001B[0m, in \u001B[0;36mMap.render\u001B[0;34m(self, **kwargs)\u001B[0m\n\u001B[1;32m    376\u001B[0m figure\u001B[38;5;241m.\u001B[39mheader\u001B[38;5;241m.\u001B[39madd_child(\n\u001B[1;32m    377\u001B[0m     Element(\n\u001B[1;32m    378\u001B[0m         \u001B[38;5;124m\"\u001B[39m\u001B[38;5;124m<style>html, body \u001B[39m\u001B[38;5;124m{\u001B[39m\u001B[38;5;124m\"\u001B[39m\n\u001B[0;32m   (...)\u001B[0m\n\u001B[1;32m    386\u001B[0m     name\u001B[38;5;241m=\u001B[39m\u001B[38;5;124m\"\u001B[39m\u001B[38;5;124mcss_style\u001B[39m\u001B[38;5;124m\"\u001B[39m,\n\u001B[1;32m    387\u001B[0m )\n\u001B[1;32m    389\u001B[0m figure\u001B[38;5;241m.\u001B[39mheader\u001B[38;5;241m.\u001B[39madd_child(\n\u001B[1;32m    390\u001B[0m     Element(\n\u001B[1;32m    391\u001B[0m         \u001B[38;5;124m\"\u001B[39m\u001B[38;5;124m<style>#map \u001B[39m\u001B[38;5;124m{\u001B[39m\u001B[38;5;124m\"\u001B[39m\n\u001B[0;32m   (...)\u001B[0m\n\u001B[1;32m    400\u001B[0m     name\u001B[38;5;241m=\u001B[39m\u001B[38;5;124m\"\u001B[39m\u001B[38;5;124mmap_style\u001B[39m\u001B[38;5;124m\"\u001B[39m,\n\u001B[1;32m    401\u001B[0m )\n\u001B[0;32m--> 403\u001B[0m \u001B[38;5;28;43msuper\u001B[39;49m\u001B[43m(\u001B[49m\u001B[43m)\u001B[49m\u001B[38;5;241;43m.\u001B[39;49m\u001B[43mrender\u001B[49m\u001B[43m(\u001B[49m\u001B[38;5;241;43m*\u001B[39;49m\u001B[38;5;241;43m*\u001B[39;49m\u001B[43mkwargs\u001B[49m\u001B[43m)\u001B[49m\n",
      "File \u001B[0;32m~/Dropbox/school/georgetown/3-spring-2024/DSAN-5200-Advanced Data Visualization/repos/DSAN5200-final_project/venv/lib/python3.11/site-packages/folium/elements.py:25\u001B[0m, in \u001B[0;36mJSCSSMixin.render\u001B[0;34m(self, **kwargs)\u001B[0m\n\u001B[1;32m     22\u001B[0m \u001B[38;5;28;01mfor\u001B[39;00m name, url \u001B[38;5;129;01min\u001B[39;00m \u001B[38;5;28mself\u001B[39m\u001B[38;5;241m.\u001B[39mdefault_css:\n\u001B[1;32m     23\u001B[0m     figure\u001B[38;5;241m.\u001B[39mheader\u001B[38;5;241m.\u001B[39madd_child(CssLink(url), name\u001B[38;5;241m=\u001B[39mname)\n\u001B[0;32m---> 25\u001B[0m \u001B[38;5;28;43msuper\u001B[39;49m\u001B[43m(\u001B[49m\u001B[43m)\u001B[49m\u001B[38;5;241;43m.\u001B[39;49m\u001B[43mrender\u001B[49m\u001B[43m(\u001B[49m\u001B[38;5;241;43m*\u001B[39;49m\u001B[38;5;241;43m*\u001B[39;49m\u001B[43mkwargs\u001B[49m\u001B[43m)\u001B[49m\n",
      "File \u001B[0;32m~/Dropbox/school/georgetown/3-spring-2024/DSAN-5200-Advanced Data Visualization/repos/DSAN5200-final_project/venv/lib/python3.11/site-packages/branca/element.py:681\u001B[0m, in \u001B[0;36mMacroElement.render\u001B[0;34m(self, **kwargs)\u001B[0m\n\u001B[1;32m    678\u001B[0m     figure\u001B[38;5;241m.\u001B[39mscript\u001B[38;5;241m.\u001B[39madd_child(Element(script(\u001B[38;5;28mself\u001B[39m, kwargs)), name\u001B[38;5;241m=\u001B[39m\u001B[38;5;28mself\u001B[39m\u001B[38;5;241m.\u001B[39mget_name())\n\u001B[1;32m    680\u001B[0m \u001B[38;5;28;01mfor\u001B[39;00m name, element \u001B[38;5;129;01min\u001B[39;00m \u001B[38;5;28mself\u001B[39m\u001B[38;5;241m.\u001B[39m_children\u001B[38;5;241m.\u001B[39mitems():\n\u001B[0;32m--> 681\u001B[0m     \u001B[43melement\u001B[49m\u001B[38;5;241;43m.\u001B[39;49m\u001B[43mrender\u001B[49m\u001B[43m(\u001B[49m\u001B[38;5;241;43m*\u001B[39;49m\u001B[38;5;241;43m*\u001B[39;49m\u001B[43mkwargs\u001B[49m\u001B[43m)\u001B[49m\n",
      "File \u001B[0;32m~/Dropbox/school/georgetown/3-spring-2024/DSAN-5200-Advanced Data Visualization/repos/DSAN5200-final_project/venv/lib/python3.11/site-packages/folium/features.py:1670\u001B[0m, in \u001B[0;36mChoropleth.render\u001B[0;34m(self, **kwargs)\u001B[0m\n\u001B[1;32m   1665\u001B[0m     \u001B[38;5;28;01massert\u001B[39;00m \u001B[38;5;28misinstance\u001B[39m(\n\u001B[1;32m   1666\u001B[0m         \u001B[38;5;28mself\u001B[39m\u001B[38;5;241m.\u001B[39m_parent, Map\n\u001B[1;32m   1667\u001B[0m     ), \u001B[38;5;124m\"\u001B[39m\u001B[38;5;124mChoropleth must be added to a Map object.\u001B[39m\u001B[38;5;124m\"\u001B[39m\n\u001B[1;32m   1668\u001B[0m     \u001B[38;5;28mself\u001B[39m\u001B[38;5;241m.\u001B[39mcolor_scale\u001B[38;5;241m.\u001B[39m_parent \u001B[38;5;241m=\u001B[39m \u001B[38;5;28mself\u001B[39m\u001B[38;5;241m.\u001B[39m_parent\n\u001B[0;32m-> 1670\u001B[0m \u001B[38;5;28;43msuper\u001B[39;49m\u001B[43m(\u001B[49m\u001B[43m)\u001B[49m\u001B[38;5;241;43m.\u001B[39;49m\u001B[43mrender\u001B[49m\u001B[43m(\u001B[49m\u001B[38;5;241;43m*\u001B[39;49m\u001B[38;5;241;43m*\u001B[39;49m\u001B[43mkwargs\u001B[49m\u001B[43m)\u001B[49m\n",
      "File \u001B[0;32m~/Dropbox/school/georgetown/3-spring-2024/DSAN-5200-Advanced Data Visualization/repos/DSAN5200-final_project/venv/lib/python3.11/site-packages/folium/map.py:63\u001B[0m, in \u001B[0;36mLayer.render\u001B[0;34m(self, **kwargs)\u001B[0m\n\u001B[1;32m     55\u001B[0m \u001B[38;5;28;01mif\u001B[39;00m \u001B[38;5;28mself\u001B[39m\u001B[38;5;241m.\u001B[39mshow:\n\u001B[1;32m     56\u001B[0m     \u001B[38;5;28mself\u001B[39m\u001B[38;5;241m.\u001B[39madd_child(\n\u001B[1;32m     57\u001B[0m         ElementAddToElement(\n\u001B[1;32m     58\u001B[0m             element_name\u001B[38;5;241m=\u001B[39m\u001B[38;5;28mself\u001B[39m\u001B[38;5;241m.\u001B[39mget_name(),\n\u001B[0;32m   (...)\u001B[0m\n\u001B[1;32m     61\u001B[0m         name\u001B[38;5;241m=\u001B[39m\u001B[38;5;28mself\u001B[39m\u001B[38;5;241m.\u001B[39mget_name() \u001B[38;5;241m+\u001B[39m \u001B[38;5;124m\"\u001B[39m\u001B[38;5;124m_add\u001B[39m\u001B[38;5;124m\"\u001B[39m,\n\u001B[1;32m     62\u001B[0m     )\n\u001B[0;32m---> 63\u001B[0m \u001B[38;5;28;43msuper\u001B[39;49m\u001B[43m(\u001B[49m\u001B[43m)\u001B[49m\u001B[38;5;241;43m.\u001B[39;49m\u001B[43mrender\u001B[49m\u001B[43m(\u001B[49m\u001B[38;5;241;43m*\u001B[39;49m\u001B[38;5;241;43m*\u001B[39;49m\u001B[43mkwargs\u001B[49m\u001B[43m)\u001B[49m\n",
      "File \u001B[0;32m~/Dropbox/school/georgetown/3-spring-2024/DSAN-5200-Advanced Data Visualization/repos/DSAN5200-final_project/venv/lib/python3.11/site-packages/branca/element.py:681\u001B[0m, in \u001B[0;36mMacroElement.render\u001B[0;34m(self, **kwargs)\u001B[0m\n\u001B[1;32m    678\u001B[0m     figure\u001B[38;5;241m.\u001B[39mscript\u001B[38;5;241m.\u001B[39madd_child(Element(script(\u001B[38;5;28mself\u001B[39m, kwargs)), name\u001B[38;5;241m=\u001B[39m\u001B[38;5;28mself\u001B[39m\u001B[38;5;241m.\u001B[39mget_name())\n\u001B[1;32m    680\u001B[0m \u001B[38;5;28;01mfor\u001B[39;00m name, element \u001B[38;5;129;01min\u001B[39;00m \u001B[38;5;28mself\u001B[39m\u001B[38;5;241m.\u001B[39m_children\u001B[38;5;241m.\u001B[39mitems():\n\u001B[0;32m--> 681\u001B[0m     \u001B[43melement\u001B[49m\u001B[38;5;241;43m.\u001B[39;49m\u001B[43mrender\u001B[49m\u001B[43m(\u001B[49m\u001B[38;5;241;43m*\u001B[39;49m\u001B[38;5;241;43m*\u001B[39;49m\u001B[43mkwargs\u001B[49m\u001B[43m)\u001B[49m\n",
      "File \u001B[0;32m~/Dropbox/school/georgetown/3-spring-2024/DSAN-5200-Advanced Data Visualization/repos/DSAN5200-final_project/venv/lib/python3.11/site-packages/folium/features.py:831\u001B[0m, in \u001B[0;36mGeoJson.render\u001B[0;34m(self, **kwargs)\u001B[0m\n\u001B[1;32m    829\u001B[0m     \u001B[38;5;28;01mif\u001B[39;00m \u001B[38;5;28mself\u001B[39m\u001B[38;5;241m.\u001B[39mhighlight:\n\u001B[1;32m    830\u001B[0m         \u001B[38;5;28mself\u001B[39m\u001B[38;5;241m.\u001B[39mhighlight_map \u001B[38;5;241m=\u001B[39m mapper\u001B[38;5;241m.\u001B[39mget_highlight_map(\u001B[38;5;28mself\u001B[39m\u001B[38;5;241m.\u001B[39mhighlight_function)\n\u001B[0;32m--> 831\u001B[0m \u001B[38;5;28;43msuper\u001B[39;49m\u001B[43m(\u001B[49m\u001B[43m)\u001B[49m\u001B[38;5;241;43m.\u001B[39;49m\u001B[43mrender\u001B[49m\u001B[43m(\u001B[49m\u001B[43m)\u001B[49m\n",
      "File \u001B[0;32m~/Dropbox/school/georgetown/3-spring-2024/DSAN-5200-Advanced Data Visualization/repos/DSAN5200-final_project/venv/lib/python3.11/site-packages/folium/map.py:63\u001B[0m, in \u001B[0;36mLayer.render\u001B[0;34m(self, **kwargs)\u001B[0m\n\u001B[1;32m     55\u001B[0m \u001B[38;5;28;01mif\u001B[39;00m \u001B[38;5;28mself\u001B[39m\u001B[38;5;241m.\u001B[39mshow:\n\u001B[1;32m     56\u001B[0m     \u001B[38;5;28mself\u001B[39m\u001B[38;5;241m.\u001B[39madd_child(\n\u001B[1;32m     57\u001B[0m         ElementAddToElement(\n\u001B[1;32m     58\u001B[0m             element_name\u001B[38;5;241m=\u001B[39m\u001B[38;5;28mself\u001B[39m\u001B[38;5;241m.\u001B[39mget_name(),\n\u001B[0;32m   (...)\u001B[0m\n\u001B[1;32m     61\u001B[0m         name\u001B[38;5;241m=\u001B[39m\u001B[38;5;28mself\u001B[39m\u001B[38;5;241m.\u001B[39mget_name() \u001B[38;5;241m+\u001B[39m \u001B[38;5;124m\"\u001B[39m\u001B[38;5;124m_add\u001B[39m\u001B[38;5;124m\"\u001B[39m,\n\u001B[1;32m     62\u001B[0m     )\n\u001B[0;32m---> 63\u001B[0m \u001B[38;5;28;43msuper\u001B[39;49m\u001B[43m(\u001B[49m\u001B[43m)\u001B[49m\u001B[38;5;241;43m.\u001B[39;49m\u001B[43mrender\u001B[49m\u001B[43m(\u001B[49m\u001B[38;5;241;43m*\u001B[39;49m\u001B[38;5;241;43m*\u001B[39;49m\u001B[43mkwargs\u001B[49m\u001B[43m)\u001B[49m\n",
      "File \u001B[0;32m~/Dropbox/school/georgetown/3-spring-2024/DSAN-5200-Advanced Data Visualization/repos/DSAN5200-final_project/venv/lib/python3.11/site-packages/branca/element.py:681\u001B[0m, in \u001B[0;36mMacroElement.render\u001B[0;34m(self, **kwargs)\u001B[0m\n\u001B[1;32m    678\u001B[0m     figure\u001B[38;5;241m.\u001B[39mscript\u001B[38;5;241m.\u001B[39madd_child(Element(script(\u001B[38;5;28mself\u001B[39m, kwargs)), name\u001B[38;5;241m=\u001B[39m\u001B[38;5;28mself\u001B[39m\u001B[38;5;241m.\u001B[39mget_name())\n\u001B[1;32m    680\u001B[0m \u001B[38;5;28;01mfor\u001B[39;00m name, element \u001B[38;5;129;01min\u001B[39;00m \u001B[38;5;28mself\u001B[39m\u001B[38;5;241m.\u001B[39m_children\u001B[38;5;241m.\u001B[39mitems():\n\u001B[0;32m--> 681\u001B[0m     \u001B[43melement\u001B[49m\u001B[38;5;241;43m.\u001B[39;49m\u001B[43mrender\u001B[49m\u001B[43m(\u001B[49m\u001B[38;5;241;43m*\u001B[39;49m\u001B[38;5;241;43m*\u001B[39;49m\u001B[43mkwargs\u001B[49m\u001B[43m)\u001B[49m\n",
      "File \u001B[0;32m~/Dropbox/school/georgetown/3-spring-2024/DSAN-5200-Advanced Data Visualization/repos/DSAN5200-final_project/venv/lib/python3.11/site-packages/folium/features.py:1189\u001B[0m, in \u001B[0;36mGeoJsonDetail.render\u001B[0;34m(self, **kwargs)\u001B[0m\n\u001B[1;32m   1186\u001B[0m keys \u001B[38;5;241m=\u001B[39m \u001B[38;5;28mtuple\u001B[39m(x \u001B[38;5;28;01mfor\u001B[39;00m x \u001B[38;5;129;01min\u001B[39;00m keys \u001B[38;5;28;01mif\u001B[39;00m x \u001B[38;5;129;01mnot\u001B[39;00m \u001B[38;5;129;01min\u001B[39;00m (\u001B[38;5;124m\"\u001B[39m\u001B[38;5;124mstyle\u001B[39m\u001B[38;5;124m\"\u001B[39m, \u001B[38;5;124m\"\u001B[39m\u001B[38;5;124mhighlight\u001B[39m\u001B[38;5;124m\"\u001B[39m))\n\u001B[1;32m   1187\u001B[0m \u001B[38;5;28;01mfor\u001B[39;00m value \u001B[38;5;129;01min\u001B[39;00m \u001B[38;5;28mself\u001B[39m\u001B[38;5;241m.\u001B[39mfields:\n\u001B[1;32m   1188\u001B[0m     \u001B[38;5;28;01massert\u001B[39;00m (\n\u001B[0;32m-> 1189\u001B[0m         value \u001B[38;5;129;01min\u001B[39;00m keys\n\u001B[1;32m   1190\u001B[0m     ), \u001B[38;5;124mf\u001B[39m\u001B[38;5;124m\"\u001B[39m\u001B[38;5;124mThe field \u001B[39m\u001B[38;5;132;01m{\u001B[39;00mvalue\u001B[38;5;132;01m}\u001B[39;00m\u001B[38;5;124m is not available in the data. Choose from: \u001B[39m\u001B[38;5;132;01m{\u001B[39;00mkeys\u001B[38;5;132;01m}\u001B[39;00m\u001B[38;5;124m.\u001B[39m\u001B[38;5;124m\"\u001B[39m\n\u001B[1;32m   1191\u001B[0m figure\u001B[38;5;241m.\u001B[39mheader\u001B[38;5;241m.\u001B[39madd_child(\n\u001B[1;32m   1192\u001B[0m     Element(\n\u001B[1;32m   1193\u001B[0m         Template(\n\u001B[0;32m   (...)\u001B[0m\n\u001B[1;32m   1212\u001B[0m     name\u001B[38;5;241m=\u001B[39m\u001B[38;5;28mself\u001B[39m\u001B[38;5;241m.\u001B[39mget_name() \u001B[38;5;241m+\u001B[39m \u001B[38;5;124m\"\u001B[39m\u001B[38;5;124mtablestyle\u001B[39m\u001B[38;5;124m\"\u001B[39m,\n\u001B[1;32m   1213\u001B[0m )\n\u001B[1;32m   1215\u001B[0m \u001B[38;5;28msuper\u001B[39m()\u001B[38;5;241m.\u001B[39mrender()\n",
      "\u001B[0;31mAssertionError\u001B[0m: The field Value is not available in the data. Choose from: ('name',)."
     ]
    },
    {
     "data": {
      "text/plain": "<folium.folium.Map at 0x11fff6b10>"
     },
     "execution_count": 8,
     "metadata": {},
     "output_type": "execute_result"
    }
   ],
   "source": [
    "m"
   ]
  }
 ],
 "metadata": {
  "kernelspec": {
   "display_name": "Python 3 (ipykernel)",
   "language": "python",
   "name": "python3"
  },
  "language_info": {
   "codemirror_mode": {
    "name": "ipython",
    "version": 3
   },
   "file_extension": ".py",
   "mimetype": "text/x-python",
   "name": "python",
   "nbconvert_exporter": "python",
   "pygments_lexer": "ipython3",
   "version": "3.11.7"
  }
 },
 "nbformat": 4,
 "nbformat_minor": 5
}
